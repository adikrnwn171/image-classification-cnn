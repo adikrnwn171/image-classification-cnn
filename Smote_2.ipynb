{
 "cells": [
  {
   "cell_type": "code",
   "execution_count": 1,
   "metadata": {},
   "outputs": [
    {
     "name": "stdout",
     "output_type": "stream",
     "text": [
      "WARNING:tensorflow:From c:\\Users\\ASUS\\AppData\\Local\\Programs\\Python\\Python310\\lib\\site-packages\\keras\\src\\losses.py:2976: The name tf.losses.sparse_softmax_cross_entropy is deprecated. Please use tf.compat.v1.losses.sparse_softmax_cross_entropy instead.\n",
      "\n"
     ]
    }
   ],
   "source": [
    "import os\n",
    "from imblearn.over_sampling import SMOTE\n",
    "from collections import Counter\n",
    "import numpy as np\n",
    "from sklearn.model_selection import train_test_split\n",
    "from sklearn.preprocessing import LabelEncoder\n",
    "from keras.preprocessing import image\n",
    "from keras.utils import to_categorical\n",
    "from keras.models import Sequential\n",
    "from keras.layers import Conv2D, MaxPooling2D, Flatten, Dense, Dropout, MaxPool2D\n",
    "import matplotlib.pyplot as plt\n",
    "from sklearn.metrics import classification_report, confusion_matrix, precision_recall_curve\n",
    "import seaborn as sns\n",
    "import keras\n",
    "from tensorflow.keras.layers import AveragePooling2D,GlobalMaxPooling2D\n",
    "from tensorflow.keras.layers import BatchNormalization\n",
    "import tensorflow as tf\n",
    "from tensorflow.keras.optimizers import Adam"
   ]
  },
  {
   "cell_type": "code",
   "execution_count": 4,
   "metadata": {},
   "outputs": [
    {
     "name": "stdout",
     "output_type": "stream",
     "text": [
      "Distribusi kelas sebelum oversampling: Counter({0: 2619, 1: 678})\n",
      "Distribusi kelas setelah oversampling: Counter({0: 2619, 1: 2619})\n"
     ]
    }
   ],
   "source": [
    "# Fungsi untuk memuat gambar dari folder dan mengonversi ke array numpy\n",
    "def load_images_from_folder(folder):\n",
    "    images = []\n",
    "    labels = []\n",
    "    for filename in os.listdir(folder):\n",
    "        path = os.path.join(folder, filename)\n",
    "        img = image.load_img(path, target_size=(128, 128))  # Ubah ukuran gambar sesuai kebutuhan\n",
    "        img_array = image.img_to_array(img)\n",
    "        images.append(img_array)\n",
    "        labels.append(folder.split('/')[-1])  # Ambil nama kelas dari nama folder\n",
    "\n",
    "    return np.array(images), np.array(labels)\n",
    "\n",
    "# Load dataset dari folder\n",
    "normal_folder = \"./dataset/train/Normal\"\n",
    "stone_folder = \"./dataset/train/Stone\"\n",
    "\n",
    "normal_images, normal_labels = load_images_from_folder(normal_folder)\n",
    "stone_images, stone_labels = load_images_from_folder(stone_folder)\n",
    "\n",
    "# Menggabungkan gambar dan label dari kedua kelas\n",
    "X = np.concatenate([normal_images, stone_images], axis=0)\n",
    "y = np.concatenate([normal_labels, stone_labels], axis=0)\n",
    "\n",
    "# Ubah label ke bentuk numerik\n",
    "le = LabelEncoder()\n",
    "y = le.fit_transform(y)\n",
    "\n",
    "X_train = X\n",
    "y_train = y\n",
    "\n",
    "# Tampilkan distribusi kelas sebelum oversampling\n",
    "print('Distribusi kelas sebelum oversampling:', Counter(y_train))\n",
    "\n",
    "# Gunakan SMOTE untuk oversampling\n",
    "smote = SMOTE(random_state=42)\n",
    "X_resampled, y_resampled = smote.fit_resample(X_train.reshape(-1, 128*128*3), y_train)\n",
    "\n",
    "# Tampilkan distribusi kelas setelah oversampling\n",
    "print('Distribusi kelas setelah oversampling:', Counter(y_resampled))\n",
    "\n",
    "# Ubah kembali ke bentuk array gambar\n",
    "X_resampled = X_resampled.reshape(-1, 128, 128, 3)\n",
    "\n",
    "# Normalisasi nilai piksel ke rentang [0, 1]\n",
    "X_resampled = X_resampled / 255.0\n",
    "X_train = X_resampled\n",
    "\n",
    "# Ubah label ke format one-hot encoding\n",
    "y_resampled = to_categorical(y_resampled, num_classes=2)\n",
    "y_train = y_resampled"
   ]
  },
  {
   "cell_type": "code",
   "execution_count": 5,
   "metadata": {},
   "outputs": [
    {
     "data": {
      "text/plain": [
       "((5238, 128, 128, 3), (5238, 2))"
      ]
     },
     "execution_count": 5,
     "metadata": {},
     "output_type": "execute_result"
    }
   ],
   "source": [
    "X_train.shape,y_train.shape"
   ]
  },
  {
   "cell_type": "code",
   "execution_count": 6,
   "metadata": {},
   "outputs": [
    {
     "name": "stdout",
     "output_type": "stream",
     "text": [
      "Distribusi kelas: Counter({0: 327, 1: 84})\n"
     ]
    }
   ],
   "source": [
    "# Load dataset dari folder\n",
    "normal_folder = \"./dataset/val/Normal\"\n",
    "stone_folder = \"./dataset/val/Stone\"\n",
    "\n",
    "normal_images, normal_labels = load_images_from_folder(normal_folder)\n",
    "stone_images, stone_labels = load_images_from_folder(stone_folder)\n",
    "\n",
    "# Menggabungkan gambar dan label dari kedua kelas\n",
    "X = np.concatenate([normal_images, stone_images], axis=0)\n",
    "y = np.concatenate([normal_labels, stone_labels], axis=0)\n",
    "\n",
    "# Ubah label ke bentuk numerik\n",
    "le = LabelEncoder()\n",
    "y = le.fit_transform(y)\n",
    "\n",
    "# Normalisasi nilai piksel ke rentang [0, 1]\n",
    "X_val = X / 255.0\n",
    "# Ubah label ke format one-hot encoding\n",
    "y_val = to_categorical(y)\n",
    "\n",
    "# Tampilkan distribusi kelas \n",
    "print('Distribusi kelas:', Counter(y))"
   ]
  },
  {
   "cell_type": "code",
   "execution_count": 7,
   "metadata": {},
   "outputs": [
    {
     "data": {
      "text/plain": [
       "((411, 128, 128, 3), (411, 2))"
      ]
     },
     "execution_count": 7,
     "metadata": {},
     "output_type": "execute_result"
    }
   ],
   "source": [
    "X_val.shape, y_val.shape"
   ]
  },
  {
   "cell_type": "code",
   "execution_count": 10,
   "metadata": {},
   "outputs": [
    {
     "name": "stdout",
     "output_type": "stream",
     "text": [
      "Distribusi kelas: Counter({0: 328, 1: 86})\n"
     ]
    }
   ],
   "source": [
    "# Load dataset dari folder\n",
    "normal_folder = \"./dataset/test/Normal\"\n",
    "stone_folder = \"./dataset/test/Stone\"\n",
    "\n",
    "normal_images, normal_labels = load_images_from_folder(normal_folder)\n",
    "stone_images, stone_labels = load_images_from_folder(stone_folder)\n",
    "\n",
    "# Menggabungkan gambar dan label dari kedua kelas\n",
    "X = np.concatenate([normal_images, stone_images], axis=0)\n",
    "y = np.concatenate([normal_labels, stone_labels], axis=0)\n",
    "\n",
    "# Ubah label ke bentuk numerik\n",
    "le = LabelEncoder()\n",
    "y = le.fit_transform(y)\n",
    "\n",
    "# Normalisasi nilai piksel ke rentang [0,1]\n",
    "X_test = X / 255.0\n",
    "# Ubah label ke format one-hot encoding\n",
    "y_test = to_categorical(y)\n",
    "\n",
    "# Tampilkan distribusi kelas \n",
    "print('Distribusi kelas:', Counter(y))"
   ]
  },
  {
   "cell_type": "code",
   "execution_count": 11,
   "metadata": {},
   "outputs": [
    {
     "data": {
      "text/plain": [
       "((414, 128, 128, 3), (414, 2))"
      ]
     },
     "execution_count": 11,
     "metadata": {},
     "output_type": "execute_result"
    }
   ],
   "source": [
    "X_test.shape, y_test.shape"
   ]
  },
  {
   "cell_type": "code",
   "execution_count": 12,
   "metadata": {},
   "outputs": [
    {
     "name": "stdout",
     "output_type": "stream",
     "text": [
      "WARNING:tensorflow:From c:\\Users\\ASUS\\AppData\\Local\\Programs\\Python\\Python310\\lib\\site-packages\\keras\\src\\backend.py:873: The name tf.get_default_graph is deprecated. Please use tf.compat.v1.get_default_graph instead.\n",
      "\n",
      "WARNING:tensorflow:From c:\\Users\\ASUS\\AppData\\Local\\Programs\\Python\\Python310\\lib\\site-packages\\keras\\src\\layers\\normalization\\batch_normalization.py:979: The name tf.nn.fused_batch_norm is deprecated. Please use tf.compat.v1.nn.fused_batch_norm instead.\n",
      "\n",
      "Model: \"sequential\"\n",
      "_________________________________________________________________\n",
      " Layer (type)                Output Shape              Param #   \n",
      "=================================================================\n",
      " conv2d (Conv2D)             (None, 128, 128, 32)      896       \n",
      "                                                                 \n",
      " batch_normalization (Batch  (None, 128, 128, 32)      128       \n",
      " Normalization)                                                  \n",
      "                                                                 \n",
      " conv2d_1 (Conv2D)           (None, 128, 128, 32)      9248      \n",
      "                                                                 \n",
      " batch_normalization_1 (Bat  (None, 128, 128, 32)      128       \n",
      " chNormalization)                                                \n",
      "                                                                 \n",
      " average_pooling2d (Average  (None, 64, 64, 32)        0         \n",
      " Pooling2D)                                                      \n",
      "                                                                 \n",
      " dropout (Dropout)           (None, 64, 64, 32)        0         \n",
      "                                                                 \n",
      " conv2d_2 (Conv2D)           (None, 64, 64, 64)        18496     \n",
      "                                                                 \n",
      " batch_normalization_2 (Bat  (None, 64, 64, 64)        256       \n",
      " chNormalization)                                                \n",
      "                                                                 \n",
      " conv2d_3 (Conv2D)           (None, 64, 64, 64)        36928     \n",
      "                                                                 \n",
      " batch_normalization_3 (Bat  (None, 64, 64, 64)        256       \n",
      " chNormalization)                                                \n",
      "                                                                 \n",
      " average_pooling2d_1 (Avera  (None, 32, 32, 64)        0         \n",
      " gePooling2D)                                                    \n",
      "                                                                 \n",
      " dropout_1 (Dropout)         (None, 32, 32, 64)        0         \n",
      "                                                                 \n",
      " conv2d_4 (Conv2D)           (None, 32, 32, 32)        18464     \n",
      "                                                                 \n",
      " batch_normalization_4 (Bat  (None, 32, 32, 32)        128       \n",
      " chNormalization)                                                \n",
      "                                                                 \n",
      " average_pooling2d_2 (Avera  (None, 16, 16, 32)        0         \n",
      " gePooling2D)                                                    \n",
      "                                                                 \n",
      " dropout_2 (Dropout)         (None, 16, 16, 32)        0         \n",
      "                                                                 \n",
      " conv2d_5 (Conv2D)           (None, 16, 16, 64)        18496     \n",
      "                                                                 \n",
      " batch_normalization_5 (Bat  (None, 16, 16, 64)        256       \n",
      " chNormalization)                                                \n",
      "                                                                 \n",
      " conv2d_6 (Conv2D)           (None, 16, 16, 64)        36928     \n",
      "                                                                 \n",
      " batch_normalization_6 (Bat  (None, 16, 16, 64)        256       \n",
      " chNormalization)                                                \n",
      "                                                                 \n",
      " average_pooling2d_3 (Avera  (None, 8, 8, 64)          0         \n",
      " gePooling2D)                                                    \n",
      "                                                                 \n",
      " dropout_3 (Dropout)         (None, 8, 8, 64)          0         \n",
      "                                                                 \n",
      " flatten (Flatten)           (None, 4096)              0         \n",
      "                                                                 \n",
      " batch_normalization_7 (Bat  (None, 4096)              16384     \n",
      " chNormalization)                                                \n",
      "                                                                 \n",
      " dense (Dense)               (None, 128)               524416    \n",
      "                                                                 \n",
      " dropout_4 (Dropout)         (None, 128)               0         \n",
      "                                                                 \n",
      " batch_normalization_8 (Bat  (None, 128)               512       \n",
      " chNormalization)                                                \n",
      "                                                                 \n",
      " dense_1 (Dense)             (None, 2)                 258       \n",
      "                                                                 \n",
      "=================================================================\n",
      "Total params: 682434 (2.60 MB)\n",
      "Trainable params: 673282 (2.57 MB)\n",
      "Non-trainable params: 9152 (35.75 KB)\n",
      "_________________________________________________________________\n"
     ]
    }
   ],
   "source": [
    "# Set the CNN model \n",
    "input_shape = (128, 128, 3)\n",
    "num_classes = 2\n",
    "\n",
    "model = Sequential()\n",
    "model.add(Conv2D(32, kernel_size=(3, 3),activation='relu',padding = 'Same',input_shape=input_shape))\n",
    "model.add(BatchNormalization())\n",
    "\n",
    "model.add(Conv2D(32,kernel_size=(3, 3), activation='relu',padding = 'Same'))\n",
    "model.add(BatchNormalization())\n",
    "model.add(AveragePooling2D(pool_size = (2, 2)))\n",
    "model.add(Dropout(0.25))\n",
    "\n",
    "model.add(Conv2D(64, (3, 3), activation='relu',padding = 'Same'))\n",
    "model.add(BatchNormalization())\n",
    "\n",
    "model.add(Conv2D(64, (3, 3), activation='relu',padding = 'Same'))\n",
    "model.add(BatchNormalization())\n",
    "model.add(AveragePooling2D(pool_size=(2, 2)))\n",
    "model.add(Dropout(0.25))\n",
    "\n",
    "##############################\n",
    "model.add(Conv2D(32,kernel_size=(3, 3), activation='relu',padding = 'Same'))\n",
    "model.add(BatchNormalization())\n",
    "model.add(AveragePooling2D(pool_size = (2, 2)))\n",
    "model.add(Dropout(0.25))\n",
    "\n",
    "model.add(Conv2D(64, (3, 3), activation='relu',padding = 'Same'))\n",
    "model.add(BatchNormalization())\n",
    "\n",
    "model.add(Conv2D(64, (3, 3), activation='relu',padding = 'Same'))\n",
    "model.add(BatchNormalization())\n",
    "model.add(AveragePooling2D(pool_size=(2, 2)))\n",
    "model.add(Dropout(0.25))\n",
    "##############################\n",
    "model.add(Flatten())\n",
    "\n",
    "model.add(BatchNormalization())\n",
    "model.add(Dense(128, activation='relu'))\n",
    "model.add(Dropout(0.25))\n",
    "\n",
    "model.add(BatchNormalization())\n",
    "model.add(Dense(num_classes, activation='softmax'))\n",
    "model.summary()"
   ]
  },
  {
   "cell_type": "code",
   "execution_count": null,
   "metadata": {},
   "outputs": [],
   "source": [
    "import keras\n",
    "from sklearn import metrics\n",
    "from sklearn.metrics import confusion_matrix\n",
    "from sklearn.metrics import precision_recall_fscore_support\n",
    "\n",
    "# model = Model(pre_trained_model.input, x)\n",
    "optimizer = Adam(learning_rate=0.0001, beta_1=0.9, beta_2=0.999, amsgrad=False)\n",
    "model.compile(loss='categorical_crossentropy', \n",
    "              optimizer=optimizer, metrics=['accuracy',\n",
    "                                            keras.metrics.Precision(name='precision'),\n",
    "                                            keras.metrics.Recall(name='recall'),\n",
    "                                            tf.keras.metrics.SpecificityAtSensitivity(0.0),\n",
    "                                            tf.keras.metrics.SensitivityAtSpecificity(0.0)\n",
    "                                          ])"
   ]
  },
  {
   "cell_type": "code",
   "execution_count": null,
   "metadata": {},
   "outputs": [],
   "source": [
    "from tensorflow.keras.callbacks import ReduceLROnPlateau, EarlyStopping\n",
    "\n",
    "learning_rate_reduction = ReduceLROnPlateau(monitor='val_accuracy', patience=3, verbose=1, factor=0.5, \n",
    "                                            min_lr=0.000001, cooldown=2)\n",
    "early_stopping = EarlyStopping(monitor='val_accuracy', patience=5, restore_best_weights=True)"
   ]
  },
  {
   "cell_type": "code",
   "execution_count": 34,
   "metadata": {},
   "outputs": [
    {
     "name": "stdout",
     "output_type": "stream",
     "text": [
      "Epoch 1/100\n",
      "163/163 [==============================] - 73s 448ms/step - loss: 0.0084 - accuracy: 0.9985 - precision: 0.9985 - recall: 0.9985 - specificity_at_sensitivity_4: 1.0000 - sensitivity_at_specificity_4: 1.0000 - val_loss: 0.0011 - val_accuracy: 1.0000 - val_precision: 1.0000 - val_recall: 1.0000 - val_specificity_at_sensitivity_4: 1.0000 - val_sensitivity_at_specificity_4: 1.0000 - lr: 1.0000e-04\n",
      "Epoch 2/100\n",
      "163/163 [==============================] - 71s 435ms/step - loss: 0.0062 - accuracy: 0.9988 - precision: 0.9988 - recall: 0.9988 - specificity_at_sensitivity_4: 1.0000 - sensitivity_at_specificity_4: 1.0000 - val_loss: 1.2302e-04 - val_accuracy: 1.0000 - val_precision: 1.0000 - val_recall: 1.0000 - val_specificity_at_sensitivity_4: 1.0000 - val_sensitivity_at_specificity_4: 1.0000 - lr: 1.0000e-04\n",
      "Epoch 3/100\n",
      "163/163 [==============================] - 70s 431ms/step - loss: 0.0044 - accuracy: 0.9987 - precision: 0.9987 - recall: 0.9987 - specificity_at_sensitivity_4: 1.0000 - sensitivity_at_specificity_4: 1.0000 - val_loss: 0.0312 - val_accuracy: 0.9896 - val_precision: 0.9896 - val_recall: 0.9896 - val_specificity_at_sensitivity_4: 1.0000 - val_sensitivity_at_specificity_4: 1.0000 - lr: 1.0000e-04\n",
      "Epoch 4/100\n",
      "163/163 [==============================] - ETA: 0s - loss: 0.0069 - accuracy: 0.9983 - precision: 0.9983 - recall: 0.9983 - specificity_at_sensitivity_4: 1.0000 - sensitivity_at_specificity_4: 1.0000\n",
      "Epoch 4: ReduceLROnPlateau reducing learning rate to 4.999999873689376e-05.\n",
      "163/163 [==============================] - 71s 437ms/step - loss: 0.0069 - accuracy: 0.9983 - precision: 0.9983 - recall: 0.9983 - specificity_at_sensitivity_4: 1.0000 - sensitivity_at_specificity_4: 1.0000 - val_loss: 4.7635e-04 - val_accuracy: 1.0000 - val_precision: 1.0000 - val_recall: 1.0000 - val_specificity_at_sensitivity_4: 1.0000 - val_sensitivity_at_specificity_4: 1.0000 - lr: 1.0000e-04\n",
      "Epoch 5/100\n",
      "163/163 [==============================] - 71s 437ms/step - loss: 0.0020 - accuracy: 1.0000 - precision: 1.0000 - recall: 1.0000 - specificity_at_sensitivity_4: 1.0000 - sensitivity_at_specificity_4: 1.0000 - val_loss: 6.7229e-05 - val_accuracy: 1.0000 - val_precision: 1.0000 - val_recall: 1.0000 - val_specificity_at_sensitivity_4: 1.0000 - val_sensitivity_at_specificity_4: 1.0000 - lr: 5.0000e-05\n",
      "Epoch 6/100\n",
      "163/163 [==============================] - 72s 444ms/step - loss: 0.0016 - accuracy: 0.9998 - precision: 0.9998 - recall: 0.9998 - specificity_at_sensitivity_4: 1.0000 - sensitivity_at_specificity_4: 1.0000 - val_loss: 4.1690e-04 - val_accuracy: 1.0000 - val_precision: 1.0000 - val_recall: 1.0000 - val_specificity_at_sensitivity_4: 1.0000 - val_sensitivity_at_specificity_4: 1.0000 - lr: 5.0000e-05\n"
     ]
    }
   ],
   "source": [
    "batch_size = 32\n",
    "\n",
    "epochs = 100\n",
    "\n",
    "history = model.fit(X_train,y_train, batch_size=batch_size,\n",
    "                              epochs = epochs, validation_data = (X_val, y_val),\n",
    "                              verbose = 1, steps_per_epoch=(X_train.shape[0] // batch_size),\n",
    "                              validation_steps=(X_val.shape[0] // batch_size),\n",
    "                              callbacks=[learning_rate_reduction, early_stopping])"
   ]
  },
  {
   "cell_type": "code",
   "execution_count": 35,
   "metadata": {},
   "outputs": [
    {
     "name": "stdout",
     "output_type": "stream",
     "text": [
      "13/13 [==============================] - 2s 107ms/step\n",
      "F1 Scores: 1.0\n",
      "Classification Report:\n",
      "              precision    recall  f1-score   support\n",
      "\n",
      "           0     1.0000    1.0000    1.0000       328\n",
      "           1     1.0000    1.0000    1.0000        86\n",
      "\n",
      "    accuracy                         1.0000       414\n",
      "   macro avg     1.0000    1.0000    1.0000       414\n",
      "weighted avg     1.0000    1.0000    1.0000       414\n",
      "\n"
     ]
    }
   ],
   "source": [
    "from sklearn.metrics import f1_score, classification_report\n",
    "\n",
    "# Prediksi menggunakan model\n",
    "y_pred_probs = model.predict(X_test)  # Gantilah x_test dengan data uji Anda\n",
    "y_pred = np.argmax(y_pred_probs, axis=1)  # Ambil indeks kelas dengan probabilitas tertinggi\n",
    "\n",
    "# Konversi hasil prediksi menjadi bentuk yang sesuai\n",
    "y_true = np.argmax(y_test, axis=1)  # Gantilah y_test dengan label ground truth\n",
    "\n",
    "# Hitung F1 Score\n",
    "f1 = f1_score(y_true, y_pred, average='weighted')  # 'weighted' untuk klasifikasi multiclass\n",
    "\n",
    "print(\"F1 Scores:\", f1)\n",
    "\n",
    "# Print laporan klasifikasi\n",
    "print(\"Classification Report:\")\n",
    "print(classification_report(y_true, y_pred, digits=4))"
   ]
  },
  {
   "cell_type": "code",
   "execution_count": 36,
   "metadata": {},
   "outputs": [
    {
     "name": "stdout",
     "output_type": "stream",
     "text": [
      "13/13 [==============================] - 1s 109ms/step - loss: 6.1505e-04 - accuracy: 1.0000 - precision: 1.0000 - recall: 1.0000 - specificity_at_sensitivity_4: 1.0000 - sensitivity_at_specificity_4: 1.0000\n",
      "Loss :  0.0006150451954454184\n",
      "Acc :  1.0\n",
      "Precission :  1.0\n",
      "Recall :  1.0\n",
      "Sensitivity :  1.0\n",
      "Specificity :  1.0\n",
      "G-mean :  1.0\n",
      "       Loss  Accuracy  Precision  Recall  Sensitivity  Specificity  G-mean  \\\n",
      "0  0.000615       1.0        1.0     1.0          1.0          1.0     1.0   \n",
      "\n",
      "   f1_scores   data model  epoch  \n",
      "0        1.0  smote   CNN      6  \n"
     ]
    }
   ],
   "source": [
    "import math \n",
    "import pandas as pd\n",
    "\n",
    "los, acc, pre, recall, sensitivity, specificity = model.evaluate(X_test, y_test, verbose=1)\n",
    "\n",
    "print(\"Loss : \", los)\n",
    "print(\"Acc : \", acc)\n",
    "print(\"Precission : \", pre)\n",
    "print(\"Recall : \", recall)\n",
    "print(\"Sensitivity : \", sensitivity)\n",
    "print(\"Specificity : \", specificity)\n",
    "print(\"G-mean : \", math.sqrt(sensitivity*specificity))\n",
    "# print(\"F1-Score : \", ((2*(pre*recall))/pre+recall))\n",
    "\n",
    "# Hitung G-mean\n",
    "g_mean = math.sqrt(sensitivity * specificity)\n",
    "\n",
    "# Buat dataframe dengan data evaluasi\n",
    "evaluation_data = {\n",
    "    'Loss': [los],\n",
    "    'Accuracy': [acc],\n",
    "    'Precision': [pre],\n",
    "    'Recall': [recall],\n",
    "    'Sensitivity': [sensitivity],\n",
    "    'Specificity': [specificity],\n",
    "    'G-mean': [g_mean]\n",
    "}\n",
    "\n",
    "df = pd.DataFrame(evaluation_data)\n",
    "df['f1_scores'] = f1\n",
    "df['data'] = \"smote\"\n",
    "df['model'] = \"CNN\"\n",
    "df['epoch'] = len(history.history['loss'])\n",
    "\n",
    "# Tampilkan dataframe\n",
    "print(df)"
   ]
  },
  {
   "cell_type": "code",
   "execution_count": 22,
   "metadata": {},
   "outputs": [
    {
     "name": "stdout",
     "output_type": "stream",
     "text": [
      "13/13 [==============================] - 1s 108ms/step\n"
     ]
    },
    {
     "data": {
      "image/png": "[encoded data removed]",
      "text/plain": [
       "<Figure size 640x480 with 2 Axes>"
      ]
     },
     "metadata": {},
     "output_type": "display_data"
    },
    {
     "name": "stdout",
     "output_type": "stream",
     "text": [
      "Classification report for classifier <keras.src.engine.sequential.Sequential object at 0x0000019A55A93550>:\n",
      "              precision    recall  f1-score   support\n",
      "\n",
      "     class 0     1.0000    1.0000    1.0000       328\n",
      "     class 1     1.0000    1.0000    1.0000        86\n",
      "\n",
      "    accuracy                         1.0000       414\n",
      "   macro avg     1.0000    1.0000    1.0000       414\n",
      "weighted avg     1.0000    1.0000    1.0000       414\n",
      "\n",
      "\n"
     ]
    }
   ],
   "source": [
    "from sklearn.metrics import confusion_matrix, classification_report\n",
    "import seaborn as sns\n",
    "\n",
    "# Predict the values from the validation dataset\n",
    "Y_pred = model.predict(X_test)\n",
    "# Convert predictions to class labels\n",
    "Y_pred_classes = np.argmax(Y_pred, axis=1)\n",
    "# Convert validation observations to class labels\n",
    "Y_true = np.argmax(y_test, axis=1)\n",
    "\n",
    "# Get the number of classes (number of unique class labels)\n",
    "num_classes = len(np.unique(Y_true))\n",
    "\n",
    "# Compute the confusion matrix\n",
    "confusion_mtx = confusion_matrix(Y_true, Y_pred_classes)\n",
    "\n",
    "# Define class labels based on your specific problem\n",
    "class_labels = ['class 0', 'class 1']\n",
    "\n",
    "# Plot the confusion matrix\n",
    "sns.heatmap(confusion_mtx, annot=True, fmt='d', cmap='Blues',\n",
    "            xticklabels=class_labels, yticklabels=class_labels)\n",
    "plt.xlabel('Predicted')\n",
    "plt.ylabel('True')\n",
    "plt.show()\n",
    "\n",
    "# Show the classification report\n",
    "print(\"Classification report for classifier %s:\\n%s\\n\"\n",
    "      % (model, classification_report(Y_true, Y_pred_classes, target_names=class_labels, digits=4)))\n"
   ]
  },
  {
   "cell_type": "markdown",
   "metadata": {},
   "source": [
    "Tes Privat Data"
   ]
  },
  {
   "cell_type": "code",
   "execution_count": 37,
   "metadata": {},
   "outputs": [
    {
     "name": "stdout",
     "output_type": "stream",
     "text": [
      "Distribusi kelas: Counter({0: 540, 1: 446})\n"
     ]
    }
   ],
   "source": [
    "# Load dataset dari folder\n",
    "normal_folder = \"./privatData/Normal\"\n",
    "stone_folder = \"./privatData/Stone\"\n",
    "\n",
    "normal_images, normal_labels = load_images_from_folder(normal_folder)\n",
    "stone_images, stone_labels = load_images_from_folder(stone_folder)\n",
    "\n",
    "# Menggabungkan gambar dan label dari kedua kelas\n",
    "X = np.concatenate([normal_images, stone_images], axis=0)\n",
    "y = np.concatenate([normal_labels, stone_labels], axis=0)\n",
    "\n",
    "# Ubah label ke bentuk numerik\n",
    "le = LabelEncoder()\n",
    "y = le.fit_transform(y)\n",
    "\n",
    "# Normalisasi nilai piksel ke rentang [0, 1]\n",
    "X_privat = X / 255.0\n",
    "# Ubah label ke format one-hot encoding\n",
    "y_privat = to_categorical(y)\n",
    "\n",
    "# Tampilkan distribusi kelas \n",
    "print('Distribusi kelas:', Counter(y))"
   ]
  },
  {
   "cell_type": "code",
   "execution_count": 38,
   "metadata": {},
   "outputs": [
    {
     "name": "stdout",
     "output_type": "stream",
     "text": [
      "31/31 [==============================] - 3s 108ms/step\n",
      "F1 Scores: 0.6267703716628713\n",
      "Classification Report:\n",
      "              precision    recall  f1-score   support\n",
      "\n",
      "           0     0.6305    0.9037    0.7428       540\n",
      "           1     0.7547    0.3587    0.4863       446\n",
      "\n",
      "    accuracy                         0.6572       986\n",
      "   macro avg     0.6926    0.6312    0.6145       986\n",
      "weighted avg     0.6867    0.6572    0.6268       986\n",
      "\n"
     ]
    }
   ],
   "source": [
    "from sklearn.metrics import f1_score, classification_report\n",
    "\n",
    "# Prediksi menggunakan model\n",
    "y_pred_probs = model.predict(X_privat)  # Gantilah x_test dengan data uji Anda\n",
    "y_pred = np.argmax(y_pred_probs, axis=1)  # Ambil indeks kelas dengan probabilitas tertinggi\n",
    "\n",
    "# Konversi hasil prediksi menjadi bentuk yang sesuai\n",
    "y_true = np.argmax(y_privat, axis=1)  # Gantilah y_test dengan label ground truth\n",
    "\n",
    "# Hitung F1 Score\n",
    "f1 = f1_score(y_true, y_pred, average='weighted')  # 'weighted' untuk klasifikasi multiclass\n",
    "\n",
    "print(\"F1 Scores:\", f1)\n",
    "\n",
    "# Print laporan klasifikasi\n",
    "print(\"Classification Report:\")\n",
    "print(classification_report(y_true, y_pred, digits=4))"
   ]
  },
  {
   "cell_type": "code",
   "execution_count": 39,
   "metadata": {},
   "outputs": [
    {
     "name": "stdout",
     "output_type": "stream",
     "text": [
      "31/31 [==============================] - 3s 108ms/step - loss: 1.3615 - accuracy: 0.6572 - precision: 0.6572 - recall: 0.6572 - specificity_at_sensitivity_4: 1.0000 - sensitivity_at_specificity_4: 1.0000\n",
      "Loss :  1.3615472316741943\n",
      "Acc :  0.657200813293457\n",
      "Precission :  0.657200813293457\n",
      "Recall :  0.657200813293457\n",
      "Sensitivity :  1.0\n",
      "Specificity :  1.0\n",
      "G-mean :  1.0\n",
      "       Loss  Accuracy  Precision    Recall  Sensitivity  Specificity  G-mean  \\\n",
      "0  1.361547  0.657201   0.657201  0.657201          1.0          1.0     1.0   \n",
      "\n",
      "   f1_scores              data model  epoch  \n",
      "0    0.62677  Tes Privat Smote   CNN      6  \n"
     ]
    }
   ],
   "source": [
    "import math \n",
    "import pandas as pd\n",
    "\n",
    "los, acc, pre, recall, sensitivity, specificity = model.evaluate(X_privat, y_privat, verbose=1)\n",
    "\n",
    "print(\"Loss : \", los)\n",
    "print(\"Acc : \", acc)\n",
    "print(\"Precission : \", pre)\n",
    "print(\"Recall : \", recall)\n",
    "print(\"Sensitivity : \", sensitivity)\n",
    "print(\"Specificity : \", specificity)\n",
    "print(\"G-mean : \", math.sqrt(sensitivity*specificity))\n",
    "# print(\"F1-Score : \", ((2*(pre*recall))/pre+recall))\n",
    "\n",
    "# Hitung G-mean\n",
    "g_mean = math.sqrt(sensitivity * specificity)\n",
    "\n",
    "# Buat dataframe dengan data evaluasi\n",
    "evaluation_data = {\n",
    "    'Loss': [los],\n",
    "    'Accuracy': [acc],\n",
    "    'Precision': [pre],\n",
    "    'Recall': [recall],\n",
    "    'Sensitivity': [sensitivity],\n",
    "    'Specificity': [specificity],\n",
    "    'G-mean': [g_mean]\n",
    "}\n",
    "\n",
    "df = pd.DataFrame(evaluation_data)\n",
    "df['f1_scores'] = f1\n",
    "df['data'] = \"Tes Privat Smote\"\n",
    "df['model'] = \"CNN\"\n",
    "df['epoch'] = len(history.history['loss'])\n",
    "\n",
    "# Tampilkan dataframe\n",
    "print(df)"
   ]
  },
  {
   "cell_type": "code",
   "execution_count": 42,
   "metadata": {},
   "outputs": [
    {
     "name": "stdout",
     "output_type": "stream",
     "text": [
      "31/31 [==============================] - 3s 103ms/step\n"
     ]
    },
    {
     "data": {
      "image/png": "[encoded data removed]",
      "text/plain": [
       "<Figure size 640x480 with 2 Axes>"
      ]
     },
     "metadata": {},
     "output_type": "display_data"
    },
    {
     "name": "stdout",
     "output_type": "stream",
     "text": [
      "Classification report for classifier <keras.src.engine.sequential.Sequential object at 0x0000019A55A93550>:\n",
      "              precision    recall  f1-score   support\n",
      "\n",
      "     class 0     0.6305    0.9037    0.7428       540\n",
      "     class 1     0.7547    0.3587    0.4863       446\n",
      "\n",
      "    accuracy                         0.6572       986\n",
      "   macro avg     0.6926    0.6312    0.6145       986\n",
      "weighted avg     0.6867    0.6572    0.6268       986\n",
      "\n",
      "\n"
     ]
    }
   ],
   "source": [
    "from sklearn.metrics import confusion_matrix, classification_report\n",
    "import seaborn as sns\n",
    "\n",
    "# Predict the values from the validation dataset\n",
    "Y_pred = model.predict(X_privat)\n",
    "# Convert predictions to class labels\n",
    "Y_pred_classes = np.argmax(Y_pred, axis=1)\n",
    "# Convert validation observations to class labels\n",
    "Y_true = np.argmax(y_privat, axis=1)\n",
    "\n",
    "# Get the number of classes (number of unique class labels)\n",
    "num_classes = len(np.unique(Y_true))\n",
    "\n",
    "# Compute the confusion matrix\n",
    "confusion_mtx = confusion_matrix(Y_true, Y_pred_classes)\n",
    "\n",
    "# Define class labels based on your specific problem\n",
    "class_labels = ['class 0', 'class 1']\n",
    "\n",
    "# Plot the confusion matrix\n",
    "sns.heatmap(confusion_mtx, annot=True, fmt='d', cmap='Blues',\n",
    "            xticklabels=class_labels, yticklabels=class_labels)\n",
    "plt.xlabel('Predicted')\n",
    "plt.ylabel('True')\n",
    "plt.show()\n",
    "\n",
    "# Show the classification report\n",
    "print(\"Classification report for classifier %s:\\n%s\\n\"\n",
    "      % (model, classification_report(Y_true, Y_pred_classes, target_names=class_labels, digits=4)))\n"
   ]
  }
 ],
 "metadata": {
  "kernelspec": {
   "display_name": "Python 3",
   "language": "python",
   "name": "python3"
  },
  "language_info": {
   "codemirror_mode": {
    "name": "ipython",
    "version": 3
   },
   "file_extension": ".py",
   "mimetype": "text/x-python",
   "name": "python",
   "nbconvert_exporter": "python",
   "pygments_lexer": "ipython3",
   "version": "3.10.5"
  }
 },
 "nbformat": 4,
 "nbformat_minor": 2
}
