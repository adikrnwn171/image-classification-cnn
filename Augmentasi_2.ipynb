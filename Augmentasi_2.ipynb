{
 "cells": [
  {
   "cell_type": "code",
   "execution_count": 34,
   "metadata": {},
   "outputs": [
    {
     "name": "stdout",
     "output_type": "stream",
     "text": [
      "Collecting imgaug\n",
      "  Downloading imgaug-0.4.0-py2.py3-none-any.whl (948 kB)\n",
      "     ------------------------------------ 948.0/948.0 KB 588.3 kB/s eta 0:00:00\n",
      "Requirement already satisfied: six in c:\\users\\asus\\appdata\\roaming\\python\\python310\\site-packages (from imgaug) (1.16.0)\n",
      "Collecting Shapely\n",
      "  Downloading shapely-2.0.2-cp310-cp310-win_amd64.whl (1.4 MB)\n",
      "     ---------------------------------------- 1.4/1.4 MB 1.7 MB/s eta 0:00:00\n",
      "Collecting imageio\n",
      "  Downloading imageio-2.33.0-py3-none-any.whl (313 kB)\n",
      "     -------------------------------------- 313.3/313.3 KB 2.1 MB/s eta 0:00:00\n",
      "Requirement already satisfied: Pillow in c:\\users\\asus\\appdata\\local\\programs\\python\\python310\\lib\\site-packages (from imgaug) (10.1.0)\n",
      "Requirement already satisfied: scipy in c:\\users\\asus\\appdata\\local\\programs\\python\\python310\\lib\\site-packages (from imgaug) (1.11.3)\n",
      "Requirement already satisfied: opencv-python in c:\\users\\asus\\appdata\\local\\programs\\python\\python310\\lib\\site-packages (from imgaug) (4.8.1.78)\n",
      "Requirement already satisfied: numpy>=1.15 in c:\\users\\asus\\appdata\\local\\programs\\python\\python310\\lib\\site-packages (from imgaug) (1.26.2)\n",
      "Requirement already satisfied: matplotlib in c:\\users\\asus\\appdata\\local\\programs\\python\\python310\\lib\\site-packages (from imgaug) (3.8.1)\n",
      "Collecting scikit-image>=0.14.2\n",
      "  Downloading scikit_image-0.22.0-cp310-cp310-win_amd64.whl (24.5 MB)\n",
      "     ---------------------------------------- 24.5/24.5 MB 4.6 MB/s eta 0:00:00\n",
      "Requirement already satisfied: packaging>=21 in c:\\users\\asus\\appdata\\roaming\\python\\python310\\site-packages (from scikit-image>=0.14.2->imgaug) (23.2)\n",
      "Collecting tifffile>=2022.8.12\n",
      "  Downloading tifffile-2023.9.26-py3-none-any.whl (222 kB)\n",
      "     -------------------------------------- 222.9/222.9 KB 4.5 MB/s eta 0:00:00\n",
      "Collecting networkx>=2.8\n",
      "  Downloading networkx-3.2.1-py3-none-any.whl (1.6 MB)\n",
      "     ---------------------------------------- 1.6/1.6 MB 5.8 MB/s eta 0:00:00\n",
      "Collecting lazy_loader>=0.3\n",
      "  Downloading lazy_loader-0.3-py3-none-any.whl (9.1 kB)\n",
      "Requirement already satisfied: python-dateutil>=2.7 in c:\\users\\asus\\appdata\\roaming\\python\\python310\\site-packages (from matplotlib->imgaug) (2.8.2)\n",
      "Requirement already satisfied: contourpy>=1.0.1 in c:\\users\\asus\\appdata\\local\\programs\\python\\python310\\lib\\site-packages (from matplotlib->imgaug) (1.2.0)\n",
      "Requirement already satisfied: cycler>=0.10 in c:\\users\\asus\\appdata\\local\\programs\\python\\python310\\lib\\site-packages (from matplotlib->imgaug) (0.12.1)\n",
      "Requirement already satisfied: fonttools>=4.22.0 in c:\\users\\asus\\appdata\\local\\programs\\python\\python310\\lib\\site-packages (from matplotlib->imgaug) (4.44.3)\n",
      "Requirement already satisfied: pyparsing>=2.3.1 in c:\\users\\asus\\appdata\\local\\programs\\python\\python310\\lib\\site-packages (from matplotlib->imgaug) (3.1.1)\n",
      "Requirement already satisfied: kiwisolver>=1.3.1 in c:\\users\\asus\\appdata\\local\\programs\\python\\python310\\lib\\site-packages (from matplotlib->imgaug) (1.4.5)\n",
      "Installing collected packages: tifffile, Shapely, networkx, lazy_loader, imageio, scikit-image, imgaug\n",
      "Successfully installed Shapely-2.0.2 imageio-2.33.0 imgaug-0.4.0 lazy_loader-0.3 networkx-3.2.1 scikit-image-0.22.0 tifffile-2023.9.26\n",
      "Note: you may need to restart the kernel to use updated packages.\n"
     ]
    },
    {
     "name": "stderr",
     "output_type": "stream",
     "text": [
      "  WARNING: The scripts lsm2bin.exe, tiff2fsspec.exe, tiffcomment.exe and tifffile.exe are installed in 'c:\\Users\\ASUS\\AppData\\Local\\Programs\\Python\\Python310\\Scripts' which is not on PATH.\n",
      "  Consider adding this directory to PATH or, if you prefer to suppress this warning, use --no-warn-script-location.\n",
      "  WARNING: The scripts imageio_download_bin.exe and imageio_remove_bin.exe are installed in 'c:\\Users\\ASUS\\AppData\\Local\\Programs\\Python\\Python310\\Scripts' which is not on PATH.\n",
      "  Consider adding this directory to PATH or, if you prefer to suppress this warning, use --no-warn-script-location.\n",
      "WARNING: You are using pip version 22.0.4; however, version 23.3.1 is available.\n",
      "You should consider upgrading via the 'c:\\Users\\ASUS\\AppData\\Local\\Programs\\Python\\Python310\\python.exe -m pip install --upgrade pip' command.\n"
     ]
    }
   ],
   "source": [
    "pip install imgaug"
   ]
  },
  {
   "cell_type": "code",
   "execution_count": 6,
   "metadata": {},
   "outputs": [
    {
     "name": "stdout",
     "output_type": "stream",
     "text": [
      "Collecting augmentor\n",
      "  Downloading Augmentor-0.2.12-py2.py3-none-any.whl (38 kB)\n",
      "Collecting tqdm>=4.9.0\n",
      "  Downloading tqdm-4.66.1-py3-none-any.whl (78 kB)\n",
      "     ---------------------------------------- 78.3/78.3 KB 1.4 MB/s eta 0:00:00\n",
      "Requirement already satisfied: numpy>=1.11.0 in c:\\users\\asus\\appdata\\local\\programs\\python\\python310\\lib\\site-packages (from augmentor) (1.26.2)\n",
      "Requirement already satisfied: Pillow>=5.2.0 in c:\\users\\asus\\appdata\\local\\programs\\python\\python310\\lib\\site-packages (from augmentor) (10.1.0)\n",
      "Requirement already satisfied: colorama in c:\\users\\asus\\appdata\\roaming\\python\\python310\\site-packages (from tqdm>=4.9.0->augmentor) (0.4.6)\n",
      "Installing collected packages: tqdm, augmentor\n",
      "Successfully installed augmentor-0.2.12 tqdm-4.66.1\n",
      "Note: you may need to restart the kernel to use updated packages.\n"
     ]
    },
    {
     "name": "stderr",
     "output_type": "stream",
     "text": [
      "  WARNING: The script tqdm.exe is installed in 'c:\\Users\\ASUS\\AppData\\Local\\Programs\\Python\\Python310\\Scripts' which is not on PATH.\n",
      "  Consider adding this directory to PATH or, if you prefer to suppress this warning, use --no-warn-script-location.\n",
      "WARNING: You are using pip version 22.0.4; however, version 23.3.1 is available.\n",
      "You should consider upgrading via the 'c:\\Users\\ASUS\\AppData\\Local\\Programs\\Python\\Python310\\python.exe -m pip install --upgrade pip' command.\n"
     ]
    }
   ],
   "source": [
    "pip install augmentor"
   ]
  },
  {
   "cell_type": "code",
   "execution_count": 15,
   "metadata": {},
   "outputs": [],
   "source": [
    "import os\n",
    "import numpy as np\n",
    "import matplotlib.pyplot as plt\n",
    "from sklearn.model_selection import train_test_split\n",
    "from sklearn.metrics import confusion_matrix, classification_report\n",
    "from tensorflow.keras.preprocessing.image import ImageDataGenerator\n",
    "from tensorflow.keras.models import Sequential\n",
    "from tensorflow.keras.layers import Conv2D, MaxPooling2D, Flatten, Dense\n",
    "from tensorflow import random\n",
    "import keras\n",
    "import seaborn as sns\n",
    "import pandas as pd\n",
    "from tensorflow.keras.callbacks import EarlyStopping\n",
    "\n",
    "from tensorflow.keras.layers import AveragePooling2D,GlobalMaxPooling2D\n",
    "from tensorflow.keras.layers import BatchNormalization\n",
    "from tensorflow.keras.models import Sequential\n",
    "from tensorflow.keras.layers import Dense, Dropout, Flatten, Conv2D, MaxPool2D"
   ]
  },
  {
   "cell_type": "code",
   "execution_count": 16,
   "metadata": {},
   "outputs": [
    {
     "name": "stdout",
     "output_type": "stream",
     "text": [
      "Jumlah total file dalam folder normal: 2619\n",
      "Jumlah total file dalam folder stone: 678\n"
     ]
    }
   ],
   "source": [
    "def count_images_in_folder(folder_path):\n",
    "    try:\n",
    "        # Membuat list semua file dalam folder\n",
    "        files = os.listdir(folder_path)\n",
    "\n",
    "        # Menghitung jumlah total file dalam folder\n",
    "        total_files = len(files)\n",
    "\n",
    "        return total_files\n",
    "    except Exception as e:\n",
    "        print(f\"Error: {e}\")\n",
    "        return None\n",
    "    \n",
    "folder_normal = \"./dataset/train/Normal/\"\n",
    "total_normal = count_images_in_folder(folder_normal)\n",
    "\n",
    "folder_stone = \"./dataset/train/Stone/\"\n",
    "total_stone = count_images_in_folder(folder_stone)\n",
    "\n",
    "print(f\"Jumlah total file dalam folder normal: {total_normal}\")\n",
    "print(f\"Jumlah total file dalam folder stone: {total_stone}\")\n"
   ]
  },
  {
   "cell_type": "code",
   "execution_count": 17,
   "metadata": {},
   "outputs": [
    {
     "name": "stdout",
     "output_type": "stream",
     "text": [
      "Initialised with 678 image(s) found.\n",
      "Output directory set to ./dataset/train\\stone\\./../../../augmented_dataset/stone.\n",
      "Banyaknya gambar hasil augmentasi: 1941\n"
     ]
    },
    {
     "name": "stderr",
     "output_type": "stream",
     "text": [
      "Processing <PIL.Image.Image image mode=RGB size=512x512 at 0x14A9D3943A0>: 100%|██████████| 1941/1941 [00:07<00:00, 259.68 Samples/s]                  "
     ]
    },
    {
     "name": "stdout",
     "output_type": "stream",
     "text": [
      "Augmentasi geometris selesai. Gambar-gambar telah disimpan di ./../../../augmented_dataset/stone\n"
     ]
    },
    {
     "name": "stderr",
     "output_type": "stream",
     "text": [
      "\n"
     ]
    }
   ],
   "source": [
    "import Augmentor\n",
    "\n",
    "# Tentukan path ke folder dataset\n",
    "input_folder = \"./dataset/train\"\n",
    "output_folder = \"./../../../augmented_dataset/stone\"\n",
    "\n",
    "# Tentukan path ke folder kelas 'stone'\n",
    "stone_folder = os.path.join(input_folder, \"stone\")\n",
    "\n",
    "# Inisialisasi objek pipeline Augmentor\n",
    "pipeline = Augmentor.Pipeline(stone_folder, output_directory=output_folder)\n",
    "\n",
    "# Tambahkan operasi augmentasi geometris yang diinginkan\n",
    "pipeline.rotate(probability=0.7, max_left_rotation=10, max_right_rotation=10)\n",
    "pipeline.flip_left_right(probability=0.5)\n",
    "pipeline.flip_top_bottom(probability=0.5)\n",
    "\n",
    "# Tentukan jumlah sampel yang dihasilkan (sesuaikan dengan kebutuhan Anda)\n",
    "num_samples = (total_normal-total_stone)  # Misalnya, menghasilkan 500 gambar tambahan\n",
    "print(f\"\\nBanyaknya gambar hasil augmentasi: {num_samples}\")\n",
    "\n",
    "# Jalankan proses augmentasi\n",
    "pipeline.sample(num_samples)\n",
    "\n",
    "print(\"Augmentasi geometris selesai. Gambar-gambar telah disimpan di\", output_folder)\n"
   ]
  },
  {
   "cell_type": "code",
   "execution_count": 18,
   "metadata": {},
   "outputs": [
    {
     "name": "stderr",
     "output_type": "stream",
     "text": [
      "C:\\Users\\ASUS\\AppData\\Local\\Temp\\ipykernel_15552\\2549518350.py:11: FutureWarning:\n",
      "\n",
      "\n",
      "\n",
      "Passing `palette` without assigning `hue` is deprecated and will be removed in v0.14.0. Assign the `x` variable to `hue` and set `legend=False` for the same effect.\n",
      "\n",
      "\n",
      "C:\\Users\\ASUS\\AppData\\Local\\Temp\\ipykernel_15552\\2549518350.py:11: UserWarning:\n",
      "\n",
      "The palette list has more values (6) than needed (2), which may not be intended.\n",
      "\n"
     ]
    },
    {
     "data": {
      "image/png": "[encoded data removed]",
      "text/plain": [
       "<Figure size 600x500 with 1 Axes>"
      ]
     },
     "metadata": {},
     "output_type": "display_data"
    },
    {
     "data": {
      "application/vnd.plotly.v1+json": {
       "config": {
        "plotlyServerURL": "https://plot.ly"
       },
       "data": [
        {
         "domain": {
          "x": [
           0,
           1
          ],
          "y": [
           0,
           1
          ]
         },
         "hovertemplate": "label=%{label}<br>value=%{value}<extra></extra>",
         "labels": [
          "Normal",
          "Stone"
         ],
         "legendgroup": "",
         "name": "",
         "showlegend": true,
         "type": "pie",
         "values": [
          2619,
          2619
         ]
        }
       ],
       "layout": {
        "legend": {
         "tracegroupgap": 0
        },
        "margin": {
         "t": 60
        },
        "piecolorway": [
         "rgb(247,252,253)",
         "rgb(229,245,249)",
         "rgb(204,236,230)",
         "rgb(153,216,201)",
         "rgb(102,194,164)",
         "rgb(65,174,118)",
         "rgb(35,139,69)",
         "rgb(0,109,44)",
         "rgb(0,68,27)"
        ],
        "template": {
         "data": {
          "bar": [
           {
            "error_x": {
             "color": "#2a3f5f"
            },
            "error_y": {
             "color": "#2a3f5f"
            },
            "marker": {
             "line": {
              "color": "#E5ECF6",
              "width": 0.5
             },
             "pattern": {
              "fillmode": "overlay",
              "size": 10,
              "solidity": 0.2
             }
            },
            "type": "bar"
           }
          ],
          "barpolar": [
           {
            "marker": {
             "line": {
              "color": "#E5ECF6",
              "width": 0.5
             },
             "pattern": {
              "fillmode": "overlay",
              "size": 10,
              "solidity": 0.2
             }
            },
            "type": "barpolar"
           }
          ],
          "carpet": [
           {
            "aaxis": {
             "endlinecolor": "#2a3f5f",
             "gridcolor": "white",
             "linecolor": "white",
             "minorgridcolor": "white",
             "startlinecolor": "#2a3f5f"
            },
            "baxis": {
             "endlinecolor": "#2a3f5f",
             "gridcolor": "white",
             "linecolor": "white",
             "minorgridcolor": "white",
             "startlinecolor": "#2a3f5f"
            },
            "type": "carpet"
           }
          ],
          "choropleth": [
           {
            "colorbar": {
             "outlinewidth": 0,
             "ticks": ""
            },
            "type": "choropleth"
           }
          ],
          "contour": [
           {
            "colorbar": {
             "outlinewidth": 0,
             "ticks": ""
            },
            "colorscale": [
             [
              0,
              "#0d0887"
             ],
             [
              0.1111111111111111,
              "#46039f"
             ],
             [
              0.2222222222222222,
              "#7201a8"
             ],
             [
              0.3333333333333333,
              "#9c179e"
             ],
             [
              0.4444444444444444,
              "#bd3786"
             ],
             [
              0.5555555555555556,
              "#d8576b"
             ],
             [
              0.6666666666666666,
              "#ed7953"
             ],
             [
              0.7777777777777778,
              "#fb9f3a"
             ],
             [
              0.8888888888888888,
              "#fdca26"
             ],
             [
              1,
              "#f0f921"
             ]
            ],
            "type": "contour"
           }
          ],
          "contourcarpet": [
           {
            "colorbar": {
             "outlinewidth": 0,
             "ticks": ""
            },
            "type": "contourcarpet"
           }
          ],
          "heatmap": [
           {
            "colorbar": {
             "outlinewidth": 0,
             "ticks": ""
            },
            "colorscale": [
             [
              0,
              "#0d0887"
             ],
             [
              0.1111111111111111,
              "#46039f"
             ],
             [
              0.2222222222222222,
              "#7201a8"
             ],
             [
              0.3333333333333333,
              "#9c179e"
             ],
             [
              0.4444444444444444,
              "#bd3786"
             ],
             [
              0.5555555555555556,
              "#d8576b"
             ],
             [
              0.6666666666666666,
              "#ed7953"
             ],
             [
              0.7777777777777778,
              "#fb9f3a"
             ],
             [
              0.8888888888888888,
              "#fdca26"
             ],
             [
              1,
              "#f0f921"
             ]
            ],
            "type": "heatmap"
           }
          ],
          "heatmapgl": [
           {
            "colorbar": {
             "outlinewidth": 0,
             "ticks": ""
            },
            "colorscale": [
             [
              0,
              "#0d0887"
             ],
             [
              0.1111111111111111,
              "#46039f"
             ],
             [
              0.2222222222222222,
              "#7201a8"
             ],
             [
              0.3333333333333333,
              "#9c179e"
             ],
             [
              0.4444444444444444,
              "#bd3786"
             ],
             [
              0.5555555555555556,
              "#d8576b"
             ],
             [
              0.6666666666666666,
              "#ed7953"
             ],
             [
              0.7777777777777778,
              "#fb9f3a"
             ],
             [
              0.8888888888888888,
              "#fdca26"
             ],
             [
              1,
              "#f0f921"
             ]
            ],
            "type": "heatmapgl"
           }
          ],
          "histogram": [
           {
            "marker": {
             "pattern": {
              "fillmode": "overlay",
              "size": 10,
              "solidity": 0.2
             }
            },
            "type": "histogram"
           }
          ],
          "histogram2d": [
           {
            "colorbar": {
             "outlinewidth": 0,
             "ticks": ""
            },
            "colorscale": [
             [
              0,
              "#0d0887"
             ],
             [
              0.1111111111111111,
              "#46039f"
             ],
             [
              0.2222222222222222,
              "#7201a8"
             ],
             [
              0.3333333333333333,
              "#9c179e"
             ],
             [
              0.4444444444444444,
              "#bd3786"
             ],
             [
              0.5555555555555556,
              "#d8576b"
             ],
             [
              0.6666666666666666,
              "#ed7953"
             ],
             [
              0.7777777777777778,
              "#fb9f3a"
             ],
             [
              0.8888888888888888,
              "#fdca26"
             ],
             [
              1,
              "#f0f921"
             ]
            ],
            "type": "histogram2d"
           }
          ],
          "histogram2dcontour": [
           {
            "colorbar": {
             "outlinewidth": 0,
             "ticks": ""
            },
            "colorscale": [
             [
              0,
              "#0d0887"
             ],
             [
              0.1111111111111111,
              "#46039f"
             ],
             [
              0.2222222222222222,
              "#7201a8"
             ],
             [
              0.3333333333333333,
              "#9c179e"
             ],
             [
              0.4444444444444444,
              "#bd3786"
             ],
             [
              0.5555555555555556,
              "#d8576b"
             ],
             [
              0.6666666666666666,
              "#ed7953"
             ],
             [
              0.7777777777777778,
              "#fb9f3a"
             ],
             [
              0.8888888888888888,
              "#fdca26"
             ],
             [
              1,
              "#f0f921"
             ]
            ],
            "type": "histogram2dcontour"
           }
          ],
          "mesh3d": [
           {
            "colorbar": {
             "outlinewidth": 0,
             "ticks": ""
            },
            "type": "mesh3d"
           }
          ],
          "parcoords": [
           {
            "line": {
             "colorbar": {
              "outlinewidth": 0,
              "ticks": ""
             }
            },
            "type": "parcoords"
           }
          ],
          "pie": [
           {
            "automargin": true,
            "type": "pie"
           }
          ],
          "scatter": [
           {
            "fillpattern": {
             "fillmode": "overlay",
             "size": 10,
             "solidity": 0.2
            },
            "type": "scatter"
           }
          ],
          "scatter3d": [
           {
            "line": {
             "colorbar": {
              "outlinewidth": 0,
              "ticks": ""
             }
            },
            "marker": {
             "colorbar": {
              "outlinewidth": 0,
              "ticks": ""
             }
            },
            "type": "scatter3d"
           }
          ],
          "scattercarpet": [
           {
            "marker": {
             "colorbar": {
              "outlinewidth": 0,
              "ticks": ""
             }
            },
            "type": "scattercarpet"
           }
          ],
          "scattergeo": [
           {
            "marker": {
             "colorbar": {
              "outlinewidth": 0,
              "ticks": ""
             }
            },
            "type": "scattergeo"
           }
          ],
          "scattergl": [
           {
            "marker": {
             "colorbar": {
              "outlinewidth": 0,
              "ticks": ""
             }
            },
            "type": "scattergl"
           }
          ],
          "scattermapbox": [
           {
            "marker": {
             "colorbar": {
              "outlinewidth": 0,
              "ticks": ""
             }
            },
            "type": "scattermapbox"
           }
          ],
          "scatterpolar": [
           {
            "marker": {
             "colorbar": {
              "outlinewidth": 0,
              "ticks": ""
             }
            },
            "type": "scatterpolar"
           }
          ],
          "scatterpolargl": [
           {
            "marker": {
             "colorbar": {
              "outlinewidth": 0,
              "ticks": ""
             }
            },
            "type": "scatterpolargl"
           }
          ],
          "scatterternary": [
           {
            "marker": {
             "colorbar": {
              "outlinewidth": 0,
              "ticks": ""
             }
            },
            "type": "scatterternary"
           }
          ],
          "surface": [
           {
            "colorbar": {
             "outlinewidth": 0,
             "ticks": ""
            },
            "colorscale": [
             [
              0,
              "#0d0887"
             ],
             [
              0.1111111111111111,
              "#46039f"
             ],
             [
              0.2222222222222222,
              "#7201a8"
             ],
             [
              0.3333333333333333,
              "#9c179e"
             ],
             [
              0.4444444444444444,
              "#bd3786"
             ],
             [
              0.5555555555555556,
              "#d8576b"
             ],
             [
              0.6666666666666666,
              "#ed7953"
             ],
             [
              0.7777777777777778,
              "#fb9f3a"
             ],
             [
              0.8888888888888888,
              "#fdca26"
             ],
             [
              1,
              "#f0f921"
             ]
            ],
            "type": "surface"
           }
          ],
          "table": [
           {
            "cells": {
             "fill": {
              "color": "#EBF0F8"
             },
             "line": {
              "color": "white"
             }
            },
            "header": {
             "fill": {
              "color": "#C8D4E3"
             },
             "line": {
              "color": "white"
             }
            },
            "type": "table"
           }
          ]
         },
         "layout": {
          "annotationdefaults": {
           "arrowcolor": "#2a3f5f",
           "arrowhead": 0,
           "arrowwidth": 1
          },
          "autotypenumbers": "strict",
          "coloraxis": {
           "colorbar": {
            "outlinewidth": 0,
            "ticks": ""
           }
          },
          "colorscale": {
           "diverging": [
            [
             0,
             "#8e0152"
            ],
            [
             0.1,
             "#c51b7d"
            ],
            [
             0.2,
             "#de77ae"
            ],
            [
             0.3,
             "#f1b6da"
            ],
            [
             0.4,
             "#fde0ef"
            ],
            [
             0.5,
             "#f7f7f7"
            ],
            [
             0.6,
             "#e6f5d0"
            ],
            [
             0.7,
             "#b8e186"
            ],
            [
             0.8,
             "#7fbc41"
            ],
            [
             0.9,
             "#4d9221"
            ],
            [
             1,
             "#276419"
            ]
           ],
           "sequential": [
            [
             0,
             "#0d0887"
            ],
            [
             0.1111111111111111,
             "#46039f"
            ],
            [
             0.2222222222222222,
             "#7201a8"
            ],
            [
             0.3333333333333333,
             "#9c179e"
            ],
            [
             0.4444444444444444,
             "#bd3786"
            ],
            [
             0.5555555555555556,
             "#d8576b"
            ],
            [
             0.6666666666666666,
             "#ed7953"
            ],
            [
             0.7777777777777778,
             "#fb9f3a"
            ],
            [
             0.8888888888888888,
             "#fdca26"
            ],
            [
             1,
             "#f0f921"
            ]
           ],
           "sequentialminus": [
            [
             0,
             "#0d0887"
            ],
            [
             0.1111111111111111,
             "#46039f"
            ],
            [
             0.2222222222222222,
             "#7201a8"
            ],
            [
             0.3333333333333333,
             "#9c179e"
            ],
            [
             0.4444444444444444,
             "#bd3786"
            ],
            [
             0.5555555555555556,
             "#d8576b"
            ],
            [
             0.6666666666666666,
             "#ed7953"
            ],
            [
             0.7777777777777778,
             "#fb9f3a"
            ],
            [
             0.8888888888888888,
             "#fdca26"
            ],
            [
             1,
             "#f0f921"
            ]
           ]
          },
          "colorway": [
           "#636efa",
           "#EF553B",
           "#00cc96",
           "#ab63fa",
           "#FFA15A",
           "#19d3f3",
           "#FF6692",
           "#B6E880",
           "#FF97FF",
           "#FECB52"
          ],
          "font": {
           "color": "#2a3f5f"
          },
          "geo": {
           "bgcolor": "white",
           "lakecolor": "white",
           "landcolor": "#E5ECF6",
           "showlakes": true,
           "showland": true,
           "subunitcolor": "white"
          },
          "hoverlabel": {
           "align": "left"
          },
          "hovermode": "closest",
          "mapbox": {
           "style": "light"
          },
          "paper_bgcolor": "white",
          "plot_bgcolor": "#E5ECF6",
          "polar": {
           "angularaxis": {
            "gridcolor": "white",
            "linecolor": "white",
            "ticks": ""
           },
           "bgcolor": "#E5ECF6",
           "radialaxis": {
            "gridcolor": "white",
            "linecolor": "white",
            "ticks": ""
           }
          },
          "scene": {
           "xaxis": {
            "backgroundcolor": "#E5ECF6",
            "gridcolor": "white",
            "gridwidth": 2,
            "linecolor": "white",
            "showbackground": true,
            "ticks": "",
            "zerolinecolor": "white"
           },
           "yaxis": {
            "backgroundcolor": "#E5ECF6",
            "gridcolor": "white",
            "gridwidth": 2,
            "linecolor": "white",
            "showbackground": true,
            "ticks": "",
            "zerolinecolor": "white"
           },
           "zaxis": {
            "backgroundcolor": "#E5ECF6",
            "gridcolor": "white",
            "gridwidth": 2,
            "linecolor": "white",
            "showbackground": true,
            "ticks": "",
            "zerolinecolor": "white"
           }
          },
          "shapedefaults": {
           "line": {
            "color": "#2a3f5f"
           }
          },
          "ternary": {
           "aaxis": {
            "gridcolor": "white",
            "linecolor": "white",
            "ticks": ""
           },
           "baxis": {
            "gridcolor": "white",
            "linecolor": "white",
            "ticks": ""
           },
           "bgcolor": "#E5ECF6",
           "caxis": {
            "gridcolor": "white",
            "linecolor": "white",
            "ticks": ""
           }
          },
          "title": {
           "x": 0.05
          },
          "xaxis": {
           "automargin": true,
           "gridcolor": "white",
           "linecolor": "white",
           "ticks": "",
           "title": {
            "standoff": 15
           },
           "zerolinecolor": "white",
           "zerolinewidth": 2
          },
          "yaxis": {
           "automargin": true,
           "gridcolor": "white",
           "linecolor": "white",
           "ticks": "",
           "title": {
            "standoff": 15
           },
           "zerolinecolor": "white",
           "zerolinewidth": 2
          }
         }
        }
       }
      }
     },
     "metadata": {},
     "output_type": "display_data"
    }
   ],
   "source": [
    "import plotly.express as px\n",
    "\n",
    "class_names = ['Normal', 'Stone']\n",
    "\n",
    "normal = len(os.listdir('./augmented_dataset/normal/'))\n",
    "stone = len(os.listdir('./augmented_dataset/stone/'))\n",
    "\n",
    "images = [normal, stone]\n",
    "\n",
    "plt.figure(figsize=(6,5))\n",
    "sns.barplot(x= class_names, y= images, palette= sns.cubehelix_palette())\n",
    "plt.title('Frequency of Each Class in the Dataset', fontsize=14)\n",
    "plt.xlabel('Class names', fontsize=12)\n",
    "plt.ylabel('Count', fontsize=12)\n",
    "plt.xticks(range(len(images)))\n",
    "plt.show()\n",
    "px.pie(names= class_names, values= images, color_discrete_sequence=px.colors.sequential.BuGn)"
   ]
  },
  {
   "cell_type": "code",
   "execution_count": 19,
   "metadata": {},
   "outputs": [
    {
     "name": "stdout",
     "output_type": "stream",
     "text": [
      "Distribusi kelas: Counter({0: 2619, 1: 2619})\n"
     ]
    }
   ],
   "source": [
    "from keras.preprocessing import image\n",
    "from sklearn.preprocessing import LabelEncoder\n",
    "from collections import Counter\n",
    "from keras.utils import to_categorical\n",
    "\n",
    "# Fungsi untuk memuat gambar dari folder dan mengonversi ke array numpy\n",
    "def load_images_from_folder(folder):\n",
    "    images = []\n",
    "    labels = []\n",
    "    for filename in os.listdir(folder):\n",
    "        path = os.path.join(folder, filename)\n",
    "        img = image.load_img(path, target_size=(128, 128))  # Ubah ukuran gambar sesuai kebutuhan\n",
    "        img_array = image.img_to_array(img)\n",
    "        images.append(img_array)\n",
    "        labels.append(folder.split('/')[-1])  # Ambil nama kelas dari nama folder\n",
    "\n",
    "    return np.array(images), np.array(labels)\n",
    "\n",
    "# Load dataset dari folder\n",
    "normal_folder = \"./augmented_dataset/normal\"\n",
    "stone_folder = \"./augmented_dataset/stone\"\n",
    "\n",
    "normal_images, normal_labels = load_images_from_folder(normal_folder)\n",
    "stone_images, stone_labels = load_images_from_folder(stone_folder)\n",
    "\n",
    "# Menggabungkan gambar dan label dari kedua kelas\n",
    "X = np.concatenate([normal_images, stone_images], axis=0)\n",
    "y = np.concatenate([normal_labels, stone_labels], axis=0)\n",
    "\n",
    "# Ubah label ke bentuk numerik\n",
    "le = LabelEncoder()\n",
    "y = le.fit_transform(y)\n",
    "\n",
    "# Normalisasi nilai piksel ke rentang [0, 1]\n",
    "X_train = X / 255.0\n",
    "# Ubah label ke format one-hot encoding\n",
    "y_train = to_categorical(y)\n",
    "\n",
    "# Tampilkan distribusi kelas \n",
    "print('Distribusi kelas:', Counter(y))"
   ]
  },
  {
   "cell_type": "code",
   "execution_count": 20,
   "metadata": {},
   "outputs": [
    {
     "data": {
      "text/plain": [
       "((5238, 128, 128, 3), (5238, 2))"
      ]
     },
     "execution_count": 20,
     "metadata": {},
     "output_type": "execute_result"
    }
   ],
   "source": [
    "X_train.shape, y_train.shape"
   ]
  },
  {
   "cell_type": "code",
   "execution_count": 21,
   "metadata": {},
   "outputs": [
    {
     "name": "stdout",
     "output_type": "stream",
     "text": [
      "Distribusi kelas: Counter({0: 327, 1: 84})\n"
     ]
    }
   ],
   "source": [
    "# Load dataset dari folder\n",
    "normal_folder = \"./dataset/val/Normal\"\n",
    "stone_folder = \"./dataset/val/Stone\"\n",
    "\n",
    "normal_images, normal_labels = load_images_from_folder(normal_folder)\n",
    "stone_images, stone_labels = load_images_from_folder(stone_folder)\n",
    "\n",
    "# Menggabungkan gambar dan label dari kedua kelas\n",
    "X = np.concatenate([normal_images, stone_images], axis=0)\n",
    "y = np.concatenate([normal_labels, stone_labels], axis=0)\n",
    "\n",
    "# Ubah label ke bentuk numerik\n",
    "le = LabelEncoder()\n",
    "y = le.fit_transform(y)\n",
    "\n",
    "# Normalisasi nilai piksel ke rentang [0, 1]\n",
    "X_val = X / 255.0\n",
    "# Ubah label ke format one-hot encoding\n",
    "y_val = to_categorical(y)\n",
    "\n",
    "# Tampilkan distribusi kelas \n",
    "print('Distribusi kelas:', Counter(y))"
   ]
  },
  {
   "cell_type": "code",
   "execution_count": 22,
   "metadata": {},
   "outputs": [
    {
     "data": {
      "text/plain": [
       "((411, 128, 128, 3), (411, 2))"
      ]
     },
     "execution_count": 22,
     "metadata": {},
     "output_type": "execute_result"
    }
   ],
   "source": [
    "X_val.shape, y_val.shape"
   ]
  },
  {
   "cell_type": "code",
   "execution_count": 23,
   "metadata": {},
   "outputs": [
    {
     "name": "stdout",
     "output_type": "stream",
     "text": [
      "Distribusi kelas: Counter({0: 328, 1: 86})\n"
     ]
    }
   ],
   "source": [
    "# Load dataset dari folder\n",
    "normal_folder = \"./dataset/test/Normal\"\n",
    "stone_folder = \"./dataset/test/Stone\"\n",
    "\n",
    "normal_images, normal_labels = load_images_from_folder(normal_folder)\n",
    "stone_images, stone_labels = load_images_from_folder(stone_folder)\n",
    "\n",
    "# Menggabungkan gambar dan label dari kedua kelas\n",
    "X = np.concatenate([normal_images, stone_images], axis=0)\n",
    "y = np.concatenate([normal_labels, stone_labels], axis=0)\n",
    "\n",
    "# Ubah label ke bentuk numerik\n",
    "le = LabelEncoder()\n",
    "y = le.fit_transform(y)\n",
    "\n",
    "# Normalisasi nilai piksel ke rentang [0,1]\n",
    "X_test = X / 255.0\n",
    "# Ubah label ke format one-hot encoding\n",
    "y_test = to_categorical(y)\n",
    "\n",
    "# Tampilkan distribusi kelas \n",
    "print('Distribusi kelas:', Counter(y))"
   ]
  },
  {
   "cell_type": "code",
   "execution_count": 24,
   "metadata": {},
   "outputs": [
    {
     "data": {
      "text/plain": [
       "((414, 128, 128, 3), (414, 2))"
      ]
     },
     "execution_count": 24,
     "metadata": {},
     "output_type": "execute_result"
    }
   ],
   "source": [
    "X_test.shape, y_test.shape"
   ]
  },
  {
   "cell_type": "code",
   "execution_count": 25,
   "metadata": {},
   "outputs": [
    {
     "name": "stdout",
     "output_type": "stream",
     "text": [
      "Model: \"sequential_1\"\n",
      "_________________________________________________________________\n",
      " Layer (type)                Output Shape              Param #   \n",
      "=================================================================\n",
      " conv2d_7 (Conv2D)           (None, 128, 128, 32)      896       \n",
      "                                                                 \n",
      " batch_normalization_9 (Bat  (None, 128, 128, 32)      128       \n",
      " chNormalization)                                                \n",
      "                                                                 \n",
      " conv2d_8 (Conv2D)           (None, 128, 128, 32)      9248      \n",
      "                                                                 \n",
      " batch_normalization_10 (Ba  (None, 128, 128, 32)      128       \n",
      " tchNormalization)                                               \n",
      "                                                                 \n",
      " average_pooling2d_4 (Avera  (None, 64, 64, 32)        0         \n",
      " gePooling2D)                                                    \n",
      "                                                                 \n",
      " dropout_5 (Dropout)         (None, 64, 64, 32)        0         \n",
      "                                                                 \n",
      " conv2d_9 (Conv2D)           (None, 64, 64, 64)        18496     \n",
      "                                                                 \n",
      " batch_normalization_11 (Ba  (None, 64, 64, 64)        256       \n",
      " tchNormalization)                                               \n",
      "                                                                 \n",
      " conv2d_10 (Conv2D)          (None, 64, 64, 64)        36928     \n",
      "                                                                 \n",
      " batch_normalization_12 (Ba  (None, 64, 64, 64)        256       \n",
      " tchNormalization)                                               \n",
      "                                                                 \n",
      " average_pooling2d_5 (Avera  (None, 32, 32, 64)        0         \n",
      " gePooling2D)                                                    \n",
      "                                                                 \n",
      " dropout_6 (Dropout)         (None, 32, 32, 64)        0         \n",
      "                                                                 \n",
      " conv2d_11 (Conv2D)          (None, 32, 32, 32)        18464     \n",
      "                                                                 \n",
      " batch_normalization_13 (Ba  (None, 32, 32, 32)        128       \n",
      " tchNormalization)                                               \n",
      "                                                                 \n",
      " average_pooling2d_6 (Avera  (None, 16, 16, 32)        0         \n",
      " gePooling2D)                                                    \n",
      "                                                                 \n",
      " dropout_7 (Dropout)         (None, 16, 16, 32)        0         \n",
      "                                                                 \n",
      " conv2d_12 (Conv2D)          (None, 16, 16, 64)        18496     \n",
      "                                                                 \n",
      " batch_normalization_14 (Ba  (None, 16, 16, 64)        256       \n",
      " tchNormalization)                                               \n",
      "                                                                 \n",
      " conv2d_13 (Conv2D)          (None, 16, 16, 64)        36928     \n",
      "                                                                 \n",
      " batch_normalization_15 (Ba  (None, 16, 16, 64)        256       \n",
      " tchNormalization)                                               \n",
      "                                                                 \n",
      " average_pooling2d_7 (Avera  (None, 8, 8, 64)          0         \n",
      " gePooling2D)                                                    \n",
      "                                                                 \n",
      " dropout_8 (Dropout)         (None, 8, 8, 64)          0         \n",
      "                                                                 \n",
      " flatten_1 (Flatten)         (None, 4096)              0         \n",
      "                                                                 \n",
      " batch_normalization_16 (Ba  (None, 4096)              16384     \n",
      " tchNormalization)                                               \n",
      "                                                                 \n",
      " dense_2 (Dense)             (None, 128)               524416    \n",
      "                                                                 \n",
      " dropout_9 (Dropout)         (None, 128)               0         \n",
      "                                                                 \n",
      " batch_normalization_17 (Ba  (None, 128)               512       \n",
      " tchNormalization)                                               \n",
      "                                                                 \n",
      " dense_3 (Dense)             (None, 2)                 258       \n",
      "                                                                 \n",
      "=================================================================\n",
      "Total params: 682434 (2.60 MB)\n",
      "Trainable params: 673282 (2.57 MB)\n",
      "Non-trainable params: 9152 (35.75 KB)\n",
      "_________________________________________________________________\n"
     ]
    }
   ],
   "source": [
    "# Set the CNN model\n",
    "input_shape = (128, 128, 3)\n",
    "num_classes = 2\n",
    "\n",
    "model = Sequential()\n",
    "model.add(Conv2D(32, kernel_size=(3, 3),activation='relu',padding = 'Same',input_shape=input_shape))\n",
    "model.add(BatchNormalization())\n",
    "\n",
    "model.add(Conv2D(32,kernel_size=(3, 3), activation='relu',padding = 'Same'))\n",
    "model.add(BatchNormalization())\n",
    "model.add(AveragePooling2D(pool_size = (2, 2)))\n",
    "model.add(Dropout(0.25))\n",
    "\n",
    "model.add(Conv2D(64, (3, 3), activation='relu',padding = 'Same'))\n",
    "model.add(BatchNormalization())\n",
    "\n",
    "model.add(Conv2D(64, (3, 3), activation='relu',padding = 'Same'))\n",
    "model.add(BatchNormalization())\n",
    "model.add(AveragePooling2D(pool_size=(2, 2)))\n",
    "model.add(Dropout(0.25))\n",
    "\n",
    "##############################\n",
    "model.add(Conv2D(32,kernel_size=(3, 3), activation='relu',padding = 'Same'))\n",
    "model.add(BatchNormalization())\n",
    "model.add(AveragePooling2D(pool_size = (2, 2)))\n",
    "model.add(Dropout(0.25))\n",
    "\n",
    "model.add(Conv2D(64, (3, 3), activation='relu',padding = 'Same'))\n",
    "model.add(BatchNormalization())\n",
    "\n",
    "model.add(Conv2D(64, (3, 3), activation='relu',padding = 'Same'))\n",
    "model.add(BatchNormalization())\n",
    "model.add(AveragePooling2D(pool_size=(2, 2)))\n",
    "model.add(Dropout(0.25))\n",
    "##############################\n",
    "model.add(Flatten())\n",
    "\n",
    "model.add(BatchNormalization())\n",
    "model.add(Dense(128, activation='relu'))\n",
    "model.add(Dropout(0.25))\n",
    "\n",
    "model.add(BatchNormalization())\n",
    "model.add(Dense(num_classes, activation='softmax'))\n",
    "model.summary()"
   ]
  },
  {
   "cell_type": "code",
   "execution_count": 26,
   "metadata": {},
   "outputs": [],
   "source": [
    "import keras\n",
    "from sklearn import metrics\n",
    "from sklearn.metrics import confusion_matrix\n",
    "from sklearn.metrics import precision_recall_fscore_support\n",
    "from tensorflow.keras.applications.efficientnet import EfficientNetB7\n",
    "from tensorflow.keras.optimizers import Adam\n",
    "from tensorflow.keras.callbacks import ReduceLROnPlateau, EarlyStopping\n",
    "from tensorflow.keras import backend as K\n",
    "import tensorflow as tf\n",
    "\n",
    "# model = Model(pre_trained_model.input, x)\n",
    "optimizer = Adam(learning_rate=0.0001, beta_1=0.9, beta_2=0.999, amsgrad=False)\n",
    "model.compile(loss='categorical_crossentropy',\n",
    "              optimizer=optimizer, metrics=['accuracy',\n",
    "                                            keras.metrics.Precision(name='precision'),\n",
    "                                            keras.metrics.Recall(name='recall'),\n",
    "                                            tf.keras.metrics.SpecificityAtSensitivity(0.0),\n",
    "                                            tf.keras.metrics.SensitivityAtSpecificity(0.0)\n",
    "                                          ])"
   ]
  },
  {
   "cell_type": "code",
   "execution_count": 27,
   "metadata": {},
   "outputs": [],
   "source": [
    "learning_rate_reduction = ReduceLROnPlateau(monitor='val_accuracy', patience=3, verbose=1, factor=0.5, \n",
    "                                            min_lr=0.000001, cooldown=2)\n",
    "early_stopping = EarlyStopping(monitor='val_accuracy', patience=5, restore_best_weights=True)"
   ]
  },
  {
   "cell_type": "code",
   "execution_count": 35,
   "metadata": {},
   "outputs": [
    {
     "name": "stdout",
     "output_type": "stream",
     "text": [
      "Epoch 1/100\n",
      "163/163 [==============================] - 81s 497ms/step - loss: 0.0079 - accuracy: 0.9985 - precision: 0.9985 - recall: 0.9985 - specificity_at_sensitivity_1: 1.0000 - sensitivity_at_specificity_1: 1.0000 - val_loss: 0.0038 - val_accuracy: 1.0000 - val_precision: 1.0000 - val_recall: 1.0000 - val_specificity_at_sensitivity_1: 1.0000 - val_sensitivity_at_specificity_1: 1.0000 - lr: 2.5000e-05\n",
      "Epoch 2/100\n",
      "163/163 [==============================] - 80s 494ms/step - loss: 0.0087 - accuracy: 0.9985 - precision: 0.9985 - recall: 0.9985 - specificity_at_sensitivity_1: 1.0000 - sensitivity_at_specificity_1: 1.0000 - val_loss: 0.0033 - val_accuracy: 1.0000 - val_precision: 1.0000 - val_recall: 1.0000 - val_specificity_at_sensitivity_1: 1.0000 - val_sensitivity_at_specificity_1: 1.0000 - lr: 2.5000e-05\n",
      "Epoch 3/100\n",
      "163/163 [==============================] - 79s 487ms/step - loss: 0.0094 - accuracy: 0.9973 - precision: 0.9973 - recall: 0.9973 - specificity_at_sensitivity_1: 1.0000 - sensitivity_at_specificity_1: 1.0000 - val_loss: 0.0055 - val_accuracy: 1.0000 - val_precision: 1.0000 - val_recall: 1.0000 - val_specificity_at_sensitivity_1: 1.0000 - val_sensitivity_at_specificity_1: 1.0000 - lr: 2.5000e-05\n",
      "Epoch 4/100\n",
      "163/163 [==============================] - ETA: 0s - loss: 0.0059 - accuracy: 0.9994 - precision: 0.9994 - recall: 0.9994 - specificity_at_sensitivity_1: 1.0000 - sensitivity_at_specificity_1: 1.0000\n",
      "Epoch 4: ReduceLROnPlateau reducing learning rate to 1.249999968422344e-05.\n",
      "163/163 [==============================] - 80s 488ms/step - loss: 0.0059 - accuracy: 0.9994 - precision: 0.9994 - recall: 0.9994 - specificity_at_sensitivity_1: 1.0000 - sensitivity_at_specificity_1: 1.0000 - val_loss: 0.0029 - val_accuracy: 1.0000 - val_precision: 1.0000 - val_recall: 1.0000 - val_specificity_at_sensitivity_1: 1.0000 - val_sensitivity_at_specificity_1: 1.0000 - lr: 2.5000e-05\n",
      "Epoch 5/100\n",
      "163/163 [==============================] - 80s 488ms/step - loss: 0.0083 - accuracy: 0.9981 - precision: 0.9981 - recall: 0.9981 - specificity_at_sensitivity_1: 1.0000 - sensitivity_at_specificity_1: 1.0000 - val_loss: 5.4184e-04 - val_accuracy: 1.0000 - val_precision: 1.0000 - val_recall: 1.0000 - val_specificity_at_sensitivity_1: 1.0000 - val_sensitivity_at_specificity_1: 1.0000 - lr: 1.2500e-05\n",
      "Epoch 6/100\n",
      "163/163 [==============================] - 85s 520ms/step - loss: 0.0075 - accuracy: 0.9990 - precision: 0.9990 - recall: 0.9990 - specificity_at_sensitivity_1: 1.0000 - sensitivity_at_specificity_1: 1.0000 - val_loss: 4.2699e-04 - val_accuracy: 1.0000 - val_precision: 1.0000 - val_recall: 1.0000 - val_specificity_at_sensitivity_1: 1.0000 - val_sensitivity_at_specificity_1: 1.0000 - lr: 1.2500e-05\n"
     ]
    }
   ],
   "source": [
    "batch_size = 32\n",
    "epochs = 100\n",
    "\n",
    "history = model.fit(X_train,y_train, batch_size=batch_size,\n",
    "                              epochs = epochs, validation_data = (X_val, y_val),\n",
    "                              verbose = 1, steps_per_epoch=(X_train.shape[0] // batch_size),\n",
    "                              validation_steps=(X_val.shape[0] // batch_size),\n",
    "                              callbacks=[learning_rate_reduction, early_stopping])"
   ]
  },
  {
   "cell_type": "code",
   "execution_count": 36,
   "metadata": {},
   "outputs": [
    {
     "name": "stdout",
     "output_type": "stream",
     "text": [
      "13/13 [==============================] - 2s 165ms/step\n",
      "F1 Scores: 1.0\n",
      "Classification Report:\n",
      "              precision    recall  f1-score   support\n",
      "\n",
      "           0     1.0000    1.0000    1.0000       328\n",
      "           1     1.0000    1.0000    1.0000        86\n",
      "\n",
      "    accuracy                         1.0000       414\n",
      "   macro avg     1.0000    1.0000    1.0000       414\n",
      "weighted avg     1.0000    1.0000    1.0000       414\n",
      "\n"
     ]
    }
   ],
   "source": [
    "from sklearn.metrics import f1_score, classification_report\n",
    "\n",
    "# Prediksi menggunakan model\n",
    "y_pred_probs = model.predict(X_test)  # Gantilah x_test dengan data uji Anda\n",
    "y_pred = np.argmax(y_pred_probs, axis=1)  # Ambil indeks kelas dengan probabilitas tertinggi\n",
    "\n",
    "# Konversi hasil prediksi menjadi bentuk yang sesuai\n",
    "y_true = np.argmax(y_test, axis=1)  # Gantilah y_test dengan label ground truth\n",
    "\n",
    "# Hitung F1 Score\n",
    "f1 = f1_score(y_true, y_pred, average='weighted')  # 'weighted' untuk klasifikasi multiclass\n",
    "\n",
    "print(\"F1 Scores:\", f1)\n",
    "\n",
    "# Print laporan klasifikasi\n",
    "print(\"Classification Report:\")\n",
    "print(classification_report(y_true, y_pred, digits=4))"
   ]
  },
  {
   "cell_type": "code",
   "execution_count": 37,
   "metadata": {},
   "outputs": [
    {
     "name": "stdout",
     "output_type": "stream",
     "text": [
      "13/13 [==============================] - 2s 155ms/step - loss: 0.0028 - accuracy: 1.0000 - precision: 1.0000 - recall: 1.0000 - specificity_at_sensitivity_1: 1.0000 - sensitivity_at_specificity_1: 1.0000\n",
      "Loss :  0.0027574908453971148\n",
      "Acc :  1.0\n",
      "Precission :  1.0\n",
      "Recall :  1.0\n",
      "Sensitivity :  1.0\n",
      "Specificity :  1.0\n",
      "G-mean :  1.0\n",
      "       Loss  Accuracy  Precision  Recall  Sensitivity  Specificity  G-mean  \\\n",
      "0  0.002757       1.0        1.0     1.0          1.0          1.0     1.0   \n",
      "\n",
      "   f1_scores          data model  epoch  \n",
      "0        1.0  Augmentation   CNN      6  \n"
     ]
    }
   ],
   "source": [
    "import math \n",
    "\n",
    "los, acc, pre, recall, sensitivity, specificity = model.evaluate(X_test, y_test, verbose=1)\n",
    "\n",
    "print(\"Loss : \", los)\n",
    "print(\"Acc : \", acc)\n",
    "print(\"Precission : \", pre)\n",
    "print(\"Recall : \", recall)\n",
    "print(\"Sensitivity : \", sensitivity)\n",
    "print(\"Specificity : \", specificity)\n",
    "print(\"G-mean : \", math.sqrt(sensitivity*specificity))\n",
    "# print(\"F1-Score : \", ((2*(pre*recall))/pre+recall))\n",
    "\n",
    "# Hitung G-mean\n",
    "g_mean = math.sqrt(sensitivity * specificity)\n",
    "\n",
    "# Buat dataframe dengan data evaluasi\n",
    "evaluation_data = {\n",
    "    'Loss': [los],\n",
    "    'Accuracy': [acc],\n",
    "    'Precision': [pre],\n",
    "    'Recall': [recall],\n",
    "    'Sensitivity': [sensitivity],\n",
    "    'Specificity': [specificity],\n",
    "    'G-mean': [g_mean]\n",
    "}\n",
    "\n",
    "df = pd.DataFrame(evaluation_data)\n",
    "df['f1_scores'] = f1\n",
    "df['data'] = \"Augmentation\"\n",
    "df['model'] = \"CNN\"\n",
    "df['epoch'] = len(history.history['loss'])\n",
    "\n",
    "# Tampilkan dataframe\n",
    "print(df)"
   ]
  },
  {
   "cell_type": "code",
   "execution_count": 38,
   "metadata": {},
   "outputs": [
    {
     "name": "stdout",
     "output_type": "stream",
     "text": [
      "13/13 [==============================] - 2s 164ms/step\n"
     ]
    },
    {
     "data": {
      "image/png": "[encoded data removed]",
      "text/plain": [
       "<Figure size 640x480 with 2 Axes>"
      ]
     },
     "metadata": {},
     "output_type": "display_data"
    },
    {
     "name": "stdout",
     "output_type": "stream",
     "text": [
      "Classification report for classifier <keras.src.engine.sequential.Sequential object at 0x0000014B1963BB20>:\n",
      "              precision    recall  f1-score   support\n",
      "\n",
      "     class 0     1.0000    1.0000    1.0000       328\n",
      "     class 1     1.0000    1.0000    1.0000        86\n",
      "\n",
      "    accuracy                         1.0000       414\n",
      "   macro avg     1.0000    1.0000    1.0000       414\n",
      "weighted avg     1.0000    1.0000    1.0000       414\n",
      "\n",
      "\n"
     ]
    }
   ],
   "source": [
    "from sklearn.metrics import confusion_matrix, classification_report\n",
    "import seaborn as sns\n",
    "\n",
    "# Predict the values from the validation dataset\n",
    "Y_pred = model.predict(X_test)\n",
    "# Convert predictions to class labels\n",
    "Y_pred_classes = np.argmax(Y_pred, axis=1)\n",
    "# Convert validation observations to class labels\n",
    "Y_true = np.argmax(y_test, axis=1)\n",
    "\n",
    "# Get the number of classes (number of unique class labels)\n",
    "num_classes = len(np.unique(Y_true))\n",
    "\n",
    "# Compute the confusion matrix\n",
    "confusion_mtx = confusion_matrix(Y_true, Y_pred_classes)\n",
    "\n",
    "# Define class labels based on your specific problem\n",
    "class_labels = ['class 0', 'class 1']\n",
    "\n",
    "# Plot the confusion matrix\n",
    "sns.heatmap(confusion_mtx, annot=True, fmt='d', cmap='Blues',\n",
    "            xticklabels=class_labels, yticklabels=class_labels)\n",
    "plt.xlabel('Predicted')\n",
    "plt.ylabel('True')\n",
    "plt.show()\n",
    "\n",
    "# Show the classification report\n",
    "print(\"Classification report for classifier %s:\\n%s\\n\"\n",
    "      % (model, classification_report(Y_true, Y_pred_classes, target_names=class_labels, digits=4)))\n"
   ]
  },
  {
   "cell_type": "markdown",
   "metadata": {},
   "source": [
    "Tes Privat Data"
   ]
  },
  {
   "cell_type": "code",
   "execution_count": 39,
   "metadata": {},
   "outputs": [
    {
     "name": "stdout",
     "output_type": "stream",
     "text": [
      "Distribusi kelas: Counter({0: 540, 1: 446})\n"
     ]
    }
   ],
   "source": [
    "# Load dataset dari folder\n",
    "normal_folder = \"./privatData/Normal\"\n",
    "stone_folder = \"./privatData/Stone\"\n",
    "\n",
    "normal_images, normal_labels = load_images_from_folder(normal_folder)\n",
    "stone_images, stone_labels = load_images_from_folder(stone_folder)\n",
    "\n",
    "# Menggabungkan gambar dan label dari kedua kelas\n",
    "X = np.concatenate([normal_images, stone_images], axis=0)\n",
    "y = np.concatenate([normal_labels, stone_labels], axis=0)\n",
    "\n",
    "# Ubah label ke bentuk numerik\n",
    "le = LabelEncoder()\n",
    "y = le.fit_transform(y)\n",
    "\n",
    "# Normalisasi nilai piksel ke rentang [0, 1]\n",
    "X_privat = X / 255.0\n",
    "# Ubah label ke format one-hot encoding\n",
    "y_privat = to_categorical(y)\n",
    "\n",
    "# Tampilkan distribusi kelas \n",
    "print('Distribusi kelas:', Counter(y))"
   ]
  },
  {
   "cell_type": "code",
   "execution_count": 40,
   "metadata": {},
   "outputs": [
    {
     "name": "stdout",
     "output_type": "stream",
     "text": [
      "31/31 [==============================] - 4s 139ms/step\n",
      "F1 Scores: 0.5756930971900619\n",
      "Classification Report:\n",
      "              precision    recall  f1-score   support\n",
      "\n",
      "           0     0.7000    0.4278    0.5310       540\n",
      "           1     0.5290    0.7780    0.6298       446\n",
      "\n",
      "    accuracy                         0.5862       986\n",
      "   macro avg     0.6145    0.6029    0.5804       986\n",
      "weighted avg     0.6226    0.5862    0.5757       986\n",
      "\n"
     ]
    }
   ],
   "source": [
    "from sklearn.metrics import f1_score, classification_report\n",
    "\n",
    "# Prediksi menggunakan model\n",
    "y_pred_probs = model.predict(X_privat)  # Gantilah x_test dengan data uji Anda\n",
    "y_pred = np.argmax(y_pred_probs, axis=1)  # Ambil indeks kelas dengan probabilitas tertinggi\n",
    "\n",
    "# Konversi hasil prediksi menjadi bentuk yang sesuai\n",
    "y_true = np.argmax(y_privat, axis=1)  # Gantilah y_test dengan label ground truth\n",
    "\n",
    "# Hitung F1 Score\n",
    "f1 = f1_score(y_true, y_pred, average='weighted')  # 'weighted' untuk klasifikasi multiclass\n",
    "\n",
    "print(\"F1 Scores:\", f1)\n",
    "\n",
    "# Print laporan klasifikasi\n",
    "print(\"Classification Report:\")\n",
    "print(classification_report(y_true, y_pred, digits=4))"
   ]
  },
  {
   "cell_type": "code",
   "execution_count": 41,
   "metadata": {},
   "outputs": [
    {
     "name": "stdout",
     "output_type": "stream",
     "text": [
      "31/31 [==============================] - 5s 145ms/step - loss: 1.2333 - accuracy: 0.5862 - precision: 0.5862 - recall: 0.5862 - specificity_at_sensitivity_1: 1.0000 - sensitivity_at_specificity_1: 1.0000\n",
      "Loss :  1.2333396673202515\n",
      "Acc :  0.5862069129943848\n",
      "Precission :  0.5862069129943848\n",
      "Recall :  0.5862069129943848\n",
      "Sensitivity :  1.0\n",
      "Specificity :  1.0\n",
      "G-mean :  1.0\n",
      "      Loss  Accuracy  Precision    Recall  Sensitivity  Specificity  G-mean  \\\n",
      "0  1.23334  0.586207   0.586207  0.586207          1.0          1.0     1.0   \n",
      "\n",
      "   f1_scores                     data model  epoch  \n",
      "0   0.575693  Tes Privat Augmentation   CNN      6  \n"
     ]
    }
   ],
   "source": [
    "import math \n",
    "import pandas as pd\n",
    "\n",
    "los, acc, pre, recall, sensitivity, specificity = model.evaluate(X_privat, y_privat, verbose=1)\n",
    "\n",
    "print(\"Loss : \", los)\n",
    "print(\"Acc : \", acc)\n",
    "print(\"Precission : \", pre)\n",
    "print(\"Recall : \", recall)\n",
    "print(\"Sensitivity : \", sensitivity)\n",
    "print(\"Specificity : \", specificity)\n",
    "print(\"G-mean : \", math.sqrt(sensitivity*specificity))\n",
    "# print(\"F1-Score : \", ((2*(pre*recall))/pre+recall))\n",
    "\n",
    "# Hitung G-mean\n",
    "g_mean = math.sqrt(sensitivity * specificity)\n",
    "\n",
    "# Buat dataframe dengan data evaluasi\n",
    "evaluation_data = {\n",
    "    'Loss': [los],\n",
    "    'Accuracy': [acc],\n",
    "    'Precision': [pre],\n",
    "    'Recall': [recall],\n",
    "    'Sensitivity': [sensitivity],\n",
    "    'Specificity': [specificity],\n",
    "    'G-mean': [g_mean]\n",
    "}\n",
    "\n",
    "df = pd.DataFrame(evaluation_data)\n",
    "df['f1_scores'] = f1\n",
    "df['data'] = \"Tes Privat Augmentation\"\n",
    "df['model'] = \"CNN\"\n",
    "df['epoch'] = len(history.history['loss'])\n",
    "\n",
    "# Tampilkan dataframe\n",
    "print(df)"
   ]
  },
  {
   "cell_type": "code",
   "execution_count": 42,
   "metadata": {},
   "outputs": [
    {
     "name": "stdout",
     "output_type": "stream",
     "text": [
      "31/31 [==============================] - 4s 140ms/step\n"
     ]
    },
    {
     "data": {
      "image/png": "[encoded data removed]",
      "text/plain": [
       "<Figure size 640x480 with 2 Axes>"
      ]
     },
     "metadata": {},
     "output_type": "display_data"
    },
    {
     "name": "stdout",
     "output_type": "stream",
     "text": [
      "Classification report for classifier <keras.src.engine.sequential.Sequential object at 0x0000014B1963BB20>:\n",
      "              precision    recall  f1-score   support\n",
      "\n",
      "     class 0     0.7000    0.4278    0.5310       540\n",
      "     class 1     0.5290    0.7780    0.6298       446\n",
      "\n",
      "    accuracy                         0.5862       986\n",
      "   macro avg     0.6145    0.6029    0.5804       986\n",
      "weighted avg     0.6226    0.5862    0.5757       986\n",
      "\n",
      "\n"
     ]
    }
   ],
   "source": [
    "from sklearn.metrics import confusion_matrix, classification_report\n",
    "import seaborn as sns\n",
    "\n",
    "# Predict the values from the validation dataset\n",
    "Y_pred = model.predict(X_privat)\n",
    "# Convert predictions to class labels\n",
    "Y_pred_classes = np.argmax(Y_pred, axis=1)\n",
    "# Convert validation observations to class labels\n",
    "Y_true = np.argmax(y_privat, axis=1)\n",
    "\n",
    "# Get the number of classes (number of unique class labels)\n",
    "num_classes = len(np.unique(Y_true))\n",
    "\n",
    "# Compute the confusion matrix\n",
    "confusion_mtx = confusion_matrix(Y_true, Y_pred_classes)\n",
    "\n",
    "# Define class labels based on your specific problem\n",
    "class_labels = ['class 0', 'class 1']\n",
    "\n",
    "# Plot the confusion matrix\n",
    "sns.heatmap(confusion_mtx, annot=True, fmt='d', cmap='Blues',\n",
    "            xticklabels=class_labels, yticklabels=class_labels)\n",
    "plt.xlabel('Predicted')\n",
    "plt.ylabel('True')\n",
    "plt.show()\n",
    "\n",
    "# Show the classification report\n",
    "print(\"Classification report for classifier %s:\\n%s\\n\"\n",
    "      % (model, classification_report(Y_true, Y_pred_classes, target_names=class_labels, digits=4)))\n"
   ]
  }
 ],
 "metadata": {
  "kernelspec": {
   "display_name": "Python 3",
   "language": "python",
   "name": "python3"
  },
  "language_info": {
   "codemirror_mode": {
    "name": "ipython",
    "version": 3
   },
   "file_extension": ".py",
   "mimetype": "text/x-python",
   "name": "python",
   "nbconvert_exporter": "python",
   "pygments_lexer": "ipython3",
   "version": "3.10.5"
  }
 },
 "nbformat": 4,
 "nbformat_minor": 2
}
