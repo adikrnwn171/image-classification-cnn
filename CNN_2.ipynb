{
 "cells": [
  {
   "cell_type": "code",
   "execution_count": 2,
   "metadata": {},
   "outputs": [
    {
     "name": "stdout",
     "output_type": "stream",
     "text": [
      "WARNING:tensorflow:From c:\\Users\\ASUS\\AppData\\Local\\Programs\\Python\\Python310\\lib\\site-packages\\keras\\src\\losses.py:2976: The name tf.losses.sparse_softmax_cross_entropy is deprecated. Please use tf.compat.v1.losses.sparse_softmax_cross_entropy instead.\n",
      "\n"
     ]
    }
   ],
   "source": [
    "import keras\n",
    "from tensorflow.keras import layers\n",
    "from tensorflow.keras.preprocessing.image import ImageDataGenerator\n",
    "from tensorflow.keras.utils import load_img, img_to_array\n",
    "from tensorflow.keras.optimizers import RMSprop\n",
    "import matplotlib.pyplot as plt\n",
    "import os\n",
    "import plotly.express as px\n",
    "import numpy as np\n",
    "import splitfolders\n",
    "from sklearn.metrics import confusion_matrix\n",
    "from sklearn.metrics import precision_recall_fscore_support\n",
    "import seaborn as sns\n",
    "from tensorflow.keras.callbacks import EarlyStopping\n",
    "import scipy\n",
    "from keras.preprocessing import image\n",
    "from sklearn.preprocessing import LabelEncoder\n",
    "from collections import Counter\n",
    "from keras.utils import to_categorical\n",
    "from keras.models import Sequential\n",
    "from keras.layers import Conv2D, MaxPooling2D, Flatten, Dense, Dropout, MaxPool2D\n",
    "from tensorflow.keras.layers import AveragePooling2D,GlobalMaxPooling2D\n",
    "from tensorflow.keras.layers import BatchNormalization\n",
    "import tensorflow as tf\n",
    "from tensorflow.keras.optimizers import Adam\n",
    "import pandas as pd"
   ]
  },
  {
   "cell_type": "code",
   "execution_count": 3,
   "metadata": {},
   "outputs": [
    {
     "name": "stderr",
     "output_type": "stream",
     "text": [
      "C:\\Users\\ASUS\\AppData\\Local\\Temp\\ipykernel_19680\\821654451.py:9: FutureWarning: \n",
      "\n",
      "Passing `palette` without assigning `hue` is deprecated and will be removed in v0.14.0. Assign the `x` variable to `hue` and set `legend=False` for the same effect.\n",
      "\n",
      "  sns.barplot(x= class_names, y= images, palette= sns.cubehelix_palette())\n",
      "C:\\Users\\ASUS\\AppData\\Local\\Temp\\ipykernel_19680\\821654451.py:9: UserWarning: The palette list has more values (6) than needed (2), which may not be intended.\n",
      "  sns.barplot(x= class_names, y= images, palette= sns.cubehelix_palette())\n"
     ]
    },
    {
     "data": {
      "image/png": "[encoded data removed]",
      "text/plain": [
       "<Figure size 600x500 with 1 Axes>"
      ]
     },
     "metadata": {},
     "output_type": "display_data"
    },
    {
     "data": {
      "application/vnd.plotly.v1+json": {
       "config": {
        "plotlyServerURL": "https://plot.ly"
       },
       "data": [
        {
         "domain": {
          "x": [
           0,
           1
          ],
          "y": [
           0,
           1
          ]
         },
         "hovertemplate": "label=%{label}<br>value=%{value}<extra></extra>",
         "labels": [
          "Normal",
          "Stone"
         ],
         "legendgroup": "",
         "name": "",
         "showlegend": true,
         "type": "pie",
         "values": [
          2619,
          678
         ]
        }
       ],
       "layout": {
        "legend": {
         "tracegroupgap": 0
        },
        "margin": {
         "t": 60
        },
        "piecolorway": [
         "rgb(247,252,253)",
         "rgb(229,245,249)",
         "rgb(204,236,230)",
         "rgb(153,216,201)",
         "rgb(102,194,164)",
         "rgb(65,174,118)",
         "rgb(35,139,69)",
         "rgb(0,109,44)",
         "rgb(0,68,27)"
        ],
        "template": {
         "data": {
          "bar": [
           {
            "error_x": {
             "color": "#2a3f5f"
            },
            "error_y": {
             "color": "#2a3f5f"
            },
            "marker": {
             "line": {
              "color": "#E5ECF6",
              "width": 0.5
             },
             "pattern": {
              "fillmode": "overlay",
              "size": 10,
              "solidity": 0.2
             }
            },
            "type": "bar"
           }
          ],
          "barpolar": [
           {
            "marker": {
             "line": {
              "color": "#E5ECF6",
              "width": 0.5
             },
             "pattern": {
              "fillmode": "overlay",
              "size": 10,
              "solidity": 0.2
             }
            },
            "type": "barpolar"
           }
          ],
          "carpet": [
           {
            "aaxis": {
             "endlinecolor": "#2a3f5f",
             "gridcolor": "white",
             "linecolor": "white",
             "minorgridcolor": "white",
             "startlinecolor": "#2a3f5f"
            },
            "baxis": {
             "endlinecolor": "#2a3f5f",
             "gridcolor": "white",
             "linecolor": "white",
             "minorgridcolor": "white",
             "startlinecolor": "#2a3f5f"
            },
            "type": "carpet"
           }
          ],
          "choropleth": [
           {
            "colorbar": {
             "outlinewidth": 0,
             "ticks": ""
            },
            "type": "choropleth"
           }
          ],
          "contour": [
           {
            "colorbar": {
             "outlinewidth": 0,
             "ticks": ""
            },
            "colorscale": [
             [
              0,
              "#0d0887"
             ],
             [
              0.1111111111111111,
              "#46039f"
             ],
             [
              0.2222222222222222,
              "#7201a8"
             ],
             [
              0.3333333333333333,
              "#9c179e"
             ],
             [
              0.4444444444444444,
              "#bd3786"
             ],
             [
              0.5555555555555556,
              "#d8576b"
             ],
             [
              0.6666666666666666,
              "#ed7953"
             ],
             [
              0.7777777777777778,
              "#fb9f3a"
             ],
             [
              0.8888888888888888,
              "#fdca26"
             ],
             [
              1,
              "#f0f921"
             ]
            ],
            "type": "contour"
           }
          ],
          "contourcarpet": [
           {
            "colorbar": {
             "outlinewidth": 0,
             "ticks": ""
            },
            "type": "contourcarpet"
           }
          ],
          "heatmap": [
           {
            "colorbar": {
             "outlinewidth": 0,
             "ticks": ""
            },
            "colorscale": [
             [
              0,
              "#0d0887"
             ],
             [
              0.1111111111111111,
              "#46039f"
             ],
             [
              0.2222222222222222,
              "#7201a8"
             ],
             [
              0.3333333333333333,
              "#9c179e"
             ],
             [
              0.4444444444444444,
              "#bd3786"
             ],
             [
              0.5555555555555556,
              "#d8576b"
             ],
             [
              0.6666666666666666,
              "#ed7953"
             ],
             [
              0.7777777777777778,
              "#fb9f3a"
             ],
             [
              0.8888888888888888,
              "#fdca26"
             ],
             [
              1,
              "#f0f921"
             ]
            ],
            "type": "heatmap"
           }
          ],
          "heatmapgl": [
           {
            "colorbar": {
             "outlinewidth": 0,
             "ticks": ""
            },
            "colorscale": [
             [
              0,
              "#0d0887"
             ],
             [
              0.1111111111111111,
              "#46039f"
             ],
             [
              0.2222222222222222,
              "#7201a8"
             ],
             [
              0.3333333333333333,
              "#9c179e"
             ],
             [
              0.4444444444444444,
              "#bd3786"
             ],
             [
              0.5555555555555556,
              "#d8576b"
             ],
             [
              0.6666666666666666,
              "#ed7953"
             ],
             [
              0.7777777777777778,
              "#fb9f3a"
             ],
             [
              0.8888888888888888,
              "#fdca26"
             ],
             [
              1,
              "#f0f921"
             ]
            ],
            "type": "heatmapgl"
           }
          ],
          "histogram": [
           {
            "marker": {
             "pattern": {
              "fillmode": "overlay",
              "size": 10,
              "solidity": 0.2
             }
            },
            "type": "histogram"
           }
          ],
          "histogram2d": [
           {
            "colorbar": {
             "outlinewidth": 0,
             "ticks": ""
            },
            "colorscale": [
             [
              0,
              "#0d0887"
             ],
             [
              0.1111111111111111,
              "#46039f"
             ],
             [
              0.2222222222222222,
              "#7201a8"
             ],
             [
              0.3333333333333333,
              "#9c179e"
             ],
             [
              0.4444444444444444,
              "#bd3786"
             ],
             [
              0.5555555555555556,
              "#d8576b"
             ],
             [
              0.6666666666666666,
              "#ed7953"
             ],
             [
              0.7777777777777778,
              "#fb9f3a"
             ],
             [
              0.8888888888888888,
              "#fdca26"
             ],
             [
              1,
              "#f0f921"
             ]
            ],
            "type": "histogram2d"
           }
          ],
          "histogram2dcontour": [
           {
            "colorbar": {
             "outlinewidth": 0,
             "ticks": ""
            },
            "colorscale": [
             [
              0,
              "#0d0887"
             ],
             [
              0.1111111111111111,
              "#46039f"
             ],
             [
              0.2222222222222222,
              "#7201a8"
             ],
             [
              0.3333333333333333,
              "#9c179e"
             ],
             [
              0.4444444444444444,
              "#bd3786"
             ],
             [
              0.5555555555555556,
              "#d8576b"
             ],
             [
              0.6666666666666666,
              "#ed7953"
             ],
             [
              0.7777777777777778,
              "#fb9f3a"
             ],
             [
              0.8888888888888888,
              "#fdca26"
             ],
             [
              1,
              "#f0f921"
             ]
            ],
            "type": "histogram2dcontour"
           }
          ],
          "mesh3d": [
           {
            "colorbar": {
             "outlinewidth": 0,
             "ticks": ""
            },
            "type": "mesh3d"
           }
          ],
          "parcoords": [
           {
            "line": {
             "colorbar": {
              "outlinewidth": 0,
              "ticks": ""
             }
            },
            "type": "parcoords"
           }
          ],
          "pie": [
           {
            "automargin": true,
            "type": "pie"
           }
          ],
          "scatter": [
           {
            "fillpattern": {
             "fillmode": "overlay",
             "size": 10,
             "solidity": 0.2
            },
            "type": "scatter"
           }
          ],
          "scatter3d": [
           {
            "line": {
             "colorbar": {
              "outlinewidth": 0,
              "ticks": ""
             }
            },
            "marker": {
             "colorbar": {
              "outlinewidth": 0,
              "ticks": ""
             }
            },
            "type": "scatter3d"
           }
          ],
          "scattercarpet": [
           {
            "marker": {
             "colorbar": {
              "outlinewidth": 0,
              "ticks": ""
             }
            },
            "type": "scattercarpet"
           }
          ],
          "scattergeo": [
           {
            "marker": {
             "colorbar": {
              "outlinewidth": 0,
              "ticks": ""
             }
            },
            "type": "scattergeo"
           }
          ],
          "scattergl": [
           {
            "marker": {
             "colorbar": {
              "outlinewidth": 0,
              "ticks": ""
             }
            },
            "type": "scattergl"
           }
          ],
          "scattermapbox": [
           {
            "marker": {
             "colorbar": {
              "outlinewidth": 0,
              "ticks": ""
             }
            },
            "type": "scattermapbox"
           }
          ],
          "scatterpolar": [
           {
            "marker": {
             "colorbar": {
              "outlinewidth": 0,
              "ticks": ""
             }
            },
            "type": "scatterpolar"
           }
          ],
          "scatterpolargl": [
           {
            "marker": {
             "colorbar": {
              "outlinewidth": 0,
              "ticks": ""
             }
            },
            "type": "scatterpolargl"
           }
          ],
          "scatterternary": [
           {
            "marker": {
             "colorbar": {
              "outlinewidth": 0,
              "ticks": ""
             }
            },
            "type": "scatterternary"
           }
          ],
          "surface": [
           {
            "colorbar": {
             "outlinewidth": 0,
             "ticks": ""
            },
            "colorscale": [
             [
              0,
              "#0d0887"
             ],
             [
              0.1111111111111111,
              "#46039f"
             ],
             [
              0.2222222222222222,
              "#7201a8"
             ],
             [
              0.3333333333333333,
              "#9c179e"
             ],
             [
              0.4444444444444444,
              "#bd3786"
             ],
             [
              0.5555555555555556,
              "#d8576b"
             ],
             [
              0.6666666666666666,
              "#ed7953"
             ],
             [
              0.7777777777777778,
              "#fb9f3a"
             ],
             [
              0.8888888888888888,
              "#fdca26"
             ],
             [
              1,
              "#f0f921"
             ]
            ],
            "type": "surface"
           }
          ],
          "table": [
           {
            "cells": {
             "fill": {
              "color": "#EBF0F8"
             },
             "line": {
              "color": "white"
             }
            },
            "header": {
             "fill": {
              "color": "#C8D4E3"
             },
             "line": {
              "color": "white"
             }
            },
            "type": "table"
           }
          ]
         },
         "layout": {
          "annotationdefaults": {
           "arrowcolor": "#2a3f5f",
           "arrowhead": 0,
           "arrowwidth": 1
          },
          "autotypenumbers": "strict",
          "coloraxis": {
           "colorbar": {
            "outlinewidth": 0,
            "ticks": ""
           }
          },
          "colorscale": {
           "diverging": [
            [
             0,
             "#8e0152"
            ],
            [
             0.1,
             "#c51b7d"
            ],
            [
             0.2,
             "#de77ae"
            ],
            [
             0.3,
             "#f1b6da"
            ],
            [
             0.4,
             "#fde0ef"
            ],
            [
             0.5,
             "#f7f7f7"
            ],
            [
             0.6,
             "#e6f5d0"
            ],
            [
             0.7,
             "#b8e186"
            ],
            [
             0.8,
             "#7fbc41"
            ],
            [
             0.9,
             "#4d9221"
            ],
            [
             1,
             "#276419"
            ]
           ],
           "sequential": [
            [
             0,
             "#0d0887"
            ],
            [
             0.1111111111111111,
             "#46039f"
            ],
            [
             0.2222222222222222,
             "#7201a8"
            ],
            [
             0.3333333333333333,
             "#9c179e"
            ],
            [
             0.4444444444444444,
             "#bd3786"
            ],
            [
             0.5555555555555556,
             "#d8576b"
            ],
            [
             0.6666666666666666,
             "#ed7953"
            ],
            [
             0.7777777777777778,
             "#fb9f3a"
            ],
            [
             0.8888888888888888,
             "#fdca26"
            ],
            [
             1,
             "#f0f921"
            ]
           ],
           "sequentialminus": [
            [
             0,
             "#0d0887"
            ],
            [
             0.1111111111111111,
             "#46039f"
            ],
            [
             0.2222222222222222,
             "#7201a8"
            ],
            [
             0.3333333333333333,
             "#9c179e"
            ],
            [
             0.4444444444444444,
             "#bd3786"
            ],
            [
             0.5555555555555556,
             "#d8576b"
            ],
            [
             0.6666666666666666,
             "#ed7953"
            ],
            [
             0.7777777777777778,
             "#fb9f3a"
            ],
            [
             0.8888888888888888,
             "#fdca26"
            ],
            [
             1,
             "#f0f921"
            ]
           ]
          },
          "colorway": [
           "#636efa",
           "#EF553B",
           "#00cc96",
           "#ab63fa",
           "#FFA15A",
           "#19d3f3",
           "#FF6692",
           "#B6E880",
           "#FF97FF",
           "#FECB52"
          ],
          "font": {
           "color": "#2a3f5f"
          },
          "geo": {
           "bgcolor": "white",
           "lakecolor": "white",
           "landcolor": "#E5ECF6",
           "showlakes": true,
           "showland": true,
           "subunitcolor": "white"
          },
          "hoverlabel": {
           "align": "left"
          },
          "hovermode": "closest",
          "mapbox": {
           "style": "light"
          },
          "paper_bgcolor": "white",
          "plot_bgcolor": "#E5ECF6",
          "polar": {
           "angularaxis": {
            "gridcolor": "white",
            "linecolor": "white",
            "ticks": ""
           },
           "bgcolor": "#E5ECF6",
           "radialaxis": {
            "gridcolor": "white",
            "linecolor": "white",
            "ticks": ""
           }
          },
          "scene": {
           "xaxis": {
            "backgroundcolor": "#E5ECF6",
            "gridcolor": "white",
            "gridwidth": 2,
            "linecolor": "white",
            "showbackground": true,
            "ticks": "",
            "zerolinecolor": "white"
           },
           "yaxis": {
            "backgroundcolor": "#E5ECF6",
            "gridcolor": "white",
            "gridwidth": 2,
            "linecolor": "white",
            "showbackground": true,
            "ticks": "",
            "zerolinecolor": "white"
           },
           "zaxis": {
            "backgroundcolor": "#E5ECF6",
            "gridcolor": "white",
            "gridwidth": 2,
            "linecolor": "white",
            "showbackground": true,
            "ticks": "",
            "zerolinecolor": "white"
           }
          },
          "shapedefaults": {
           "line": {
            "color": "#2a3f5f"
           }
          },
          "ternary": {
           "aaxis": {
            "gridcolor": "white",
            "linecolor": "white",
            "ticks": ""
           },
           "baxis": {
            "gridcolor": "white",
            "linecolor": "white",
            "ticks": ""
           },
           "bgcolor": "#E5ECF6",
           "caxis": {
            "gridcolor": "white",
            "linecolor": "white",
            "ticks": ""
           }
          },
          "title": {
           "x": 0.05
          },
          "xaxis": {
           "automargin": true,
           "gridcolor": "white",
           "linecolor": "white",
           "ticks": "",
           "title": {
            "standoff": 15
           },
           "zerolinecolor": "white",
           "zerolinewidth": 2
          },
          "yaxis": {
           "automargin": true,
           "gridcolor": "white",
           "linecolor": "white",
           "ticks": "",
           "title": {
            "standoff": 15
           },
           "zerolinecolor": "white",
           "zerolinewidth": 2
          }
         }
        }
       }
      }
     },
     "metadata": {},
     "output_type": "display_data"
    }
   ],
   "source": [
    "class_names = ['Normal', 'Stone']\n",
    "\n",
    "normal = len(os.listdir('./dataset/train/normal'))\n",
    "stone = len(os.listdir('./dataset/train/stone'))\n",
    "\n",
    "images = [normal, stone]\n",
    "\n",
    "plt.figure(figsize=(6,5))\n",
    "sns.barplot(x= class_names, y= images, palette= sns.cubehelix_palette())\n",
    "plt.title('Frequency of Each Class in the Dataset', fontsize=14)\n",
    "plt.xlabel('Class names', fontsize=12)\n",
    "plt.ylabel('Count', fontsize=12)\n",
    "plt.xticks(range(len(images)))\n",
    "plt.show()\n",
    "px.pie(names= class_names, values= images, color_discrete_sequence=px.colors.sequential.BuGn)"
   ]
  },
  {
   "cell_type": "code",
   "execution_count": 4,
   "metadata": {},
   "outputs": [
    {
     "name": "stdout",
     "output_type": "stream",
     "text": [
      "Distribusi kelas: Counter({0: 2619, 1: 678})\n"
     ]
    }
   ],
   "source": [
    "# Fungsi untuk memuat gambar dari folder dan mengonversi ke array numpy\n",
    "def load_images_from_folder(folder):\n",
    "    images = []\n",
    "    labels = []\n",
    "    for filename in os.listdir(folder):\n",
    "        path = os.path.join(folder, filename)\n",
    "        img = image.load_img(path, target_size=(128, 128))  # Ubah ukuran gambar sesuai kebutuhan\n",
    "        img_array = image.img_to_array(img)\n",
    "        images.append(img_array)\n",
    "        labels.append(folder.split('/')[-1])  # Ambil nama kelas dari nama folder\n",
    "\n",
    "    return np.array(images), np.array(labels)\n",
    "\n",
    "# Load dataset dari folder\n",
    "normal_folder = \"./dataset/train/Normal\"\n",
    "stone_folder = \"./dataset/train/Stone\"\n",
    "\n",
    "normal_images, normal_labels = load_images_from_folder(normal_folder)\n",
    "stone_images, stone_labels = load_images_from_folder(stone_folder)\n",
    "\n",
    "# Menggabungkan gambar dan label dari kedua kelas\n",
    "X = np.concatenate([normal_images, stone_images], axis=0)\n",
    "y = np.concatenate([normal_labels, stone_labels], axis=0)\n",
    "\n",
    "# Ubah label ke bentuk numerik\n",
    "le = LabelEncoder()\n",
    "y = le.fit_transform(y)\n",
    "\n",
    "# Normalisasi nilai piksel ke rentang [0, 1]\n",
    "X_train = X / 255.0\n",
    "# Ubah label ke format one-hot encoding\n",
    "y_train = to_categorical(y)\n",
    "\n",
    "# Tampilkan distribusi kelas \n",
    "print('Distribusi kelas:', Counter(y))"
   ]
  },
  {
   "cell_type": "code",
   "execution_count": 5,
   "metadata": {},
   "outputs": [
    {
     "data": {
      "text/plain": [
       "((3297, 128, 128, 3), (3297, 2))"
      ]
     },
     "execution_count": 5,
     "metadata": {},
     "output_type": "execute_result"
    }
   ],
   "source": [
    "X_train.shape, y_train.shape"
   ]
  },
  {
   "cell_type": "code",
   "execution_count": 6,
   "metadata": {},
   "outputs": [
    {
     "name": "stdout",
     "output_type": "stream",
     "text": [
      "Distribusi kelas: Counter({0: 327, 1: 84})\n"
     ]
    }
   ],
   "source": [
    "# Load dataset dari folder\n",
    "normal_folder = \"./dataset/val/Normal\"\n",
    "stone_folder = \"./dataset/val/Stone\"\n",
    "\n",
    "normal_images, normal_labels = load_images_from_folder(normal_folder)\n",
    "stone_images, stone_labels = load_images_from_folder(stone_folder)\n",
    "\n",
    "# Menggabungkan gambar dan label dari kedua kelas\n",
    "X = np.concatenate([normal_images, stone_images], axis=0)\n",
    "y = np.concatenate([normal_labels, stone_labels], axis=0)\n",
    "\n",
    "# Ubah label ke bentuk numerik\n",
    "le = LabelEncoder()\n",
    "y = le.fit_transform(y)\n",
    "\n",
    "# Normalisasi nilai piksel ke rentang [0, 1]\n",
    "X_val = X / 255.0\n",
    "# Ubah label ke format one-hot encoding\n",
    "y_val = to_categorical(y)\n",
    "\n",
    "# Tampilkan distribusi kelas \n",
    "print('Distribusi kelas:', Counter(y))"
   ]
  },
  {
   "cell_type": "code",
   "execution_count": 7,
   "metadata": {},
   "outputs": [
    {
     "data": {
      "text/plain": [
       "((411, 128, 128, 3), (411, 2))"
      ]
     },
     "execution_count": 7,
     "metadata": {},
     "output_type": "execute_result"
    }
   ],
   "source": [
    "X_val.shape, y_val.shape"
   ]
  },
  {
   "cell_type": "code",
   "execution_count": 8,
   "metadata": {},
   "outputs": [
    {
     "name": "stdout",
     "output_type": "stream",
     "text": [
      "Distribusi kelas: Counter({0: 328, 1: 86})\n"
     ]
    }
   ],
   "source": [
    "# Load dataset dari folder\n",
    "normal_folder = \"./dataset/test/Normal\"\n",
    "stone_folder = \"./dataset/test/Stone\"\n",
    "\n",
    "normal_images, normal_labels = load_images_from_folder(normal_folder)\n",
    "stone_images, stone_labels = load_images_from_folder(stone_folder)\n",
    "\n",
    "# Menggabungkan gambar dan label dari kedua kelas\n",
    "X = np.concatenate([normal_images, stone_images], axis=0)\n",
    "y = np.concatenate([normal_labels, stone_labels], axis=0)\n",
    "\n",
    "# Ubah label ke bentuk numerik\n",
    "le = LabelEncoder()\n",
    "y = le.fit_transform(y)\n",
    "\n",
    "# Normalisasi nilai piksel ke rentang [0,1]\n",
    "X_test = X / 255.0\n",
    "# Ubah label ke format one-hot encoding\n",
    "y_test = to_categorical(y)\n",
    "\n",
    "# Tampilkan distribusi kelas \n",
    "print('Distribusi kelas:', Counter(y))"
   ]
  },
  {
   "cell_type": "code",
   "execution_count": 9,
   "metadata": {},
   "outputs": [
    {
     "data": {
      "text/plain": [
       "((414, 128, 128, 3), (414, 2))"
      ]
     },
     "execution_count": 9,
     "metadata": {},
     "output_type": "execute_result"
    }
   ],
   "source": [
    "X_test.shape, y_test.shape"
   ]
  },
  {
   "cell_type": "code",
   "execution_count": 10,
   "metadata": {},
   "outputs": [
    {
     "name": "stdout",
     "output_type": "stream",
     "text": [
      "WARNING:tensorflow:From c:\\Users\\ASUS\\AppData\\Local\\Programs\\Python\\Python310\\lib\\site-packages\\keras\\src\\backend.py:873: The name tf.get_default_graph is deprecated. Please use tf.compat.v1.get_default_graph instead.\n",
      "\n",
      "WARNING:tensorflow:From c:\\Users\\ASUS\\AppData\\Local\\Programs\\Python\\Python310\\lib\\site-packages\\keras\\src\\layers\\normalization\\batch_normalization.py:979: The name tf.nn.fused_batch_norm is deprecated. Please use tf.compat.v1.nn.fused_batch_norm instead.\n",
      "\n",
      "Model: \"sequential\"\n",
      "_________________________________________________________________\n",
      " Layer (type)                Output Shape              Param #   \n",
      "=================================================================\n",
      " conv2d (Conv2D)             (None, 128, 128, 32)      896       \n",
      "                                                                 \n",
      " batch_normalization (Batch  (None, 128, 128, 32)      128       \n",
      " Normalization)                                                  \n",
      "                                                                 \n",
      " conv2d_1 (Conv2D)           (None, 128, 128, 32)      9248      \n",
      "                                                                 \n",
      " batch_normalization_1 (Bat  (None, 128, 128, 32)      128       \n",
      " chNormalization)                                                \n",
      "                                                                 \n",
      " average_pooling2d (Average  (None, 64, 64, 32)        0         \n",
      " Pooling2D)                                                      \n",
      "                                                                 \n",
      " dropout (Dropout)           (None, 64, 64, 32)        0         \n",
      "                                                                 \n",
      " conv2d_2 (Conv2D)           (None, 64, 64, 64)        18496     \n",
      "                                                                 \n",
      " batch_normalization_2 (Bat  (None, 64, 64, 64)        256       \n",
      " chNormalization)                                                \n",
      "                                                                 \n",
      " conv2d_3 (Conv2D)           (None, 64, 64, 64)        36928     \n",
      "                                                                 \n",
      " batch_normalization_3 (Bat  (None, 64, 64, 64)        256       \n",
      " chNormalization)                                                \n",
      "                                                                 \n",
      " average_pooling2d_1 (Avera  (None, 32, 32, 64)        0         \n",
      " gePooling2D)                                                    \n",
      "                                                                 \n",
      " dropout_1 (Dropout)         (None, 32, 32, 64)        0         \n",
      "                                                                 \n",
      " conv2d_4 (Conv2D)           (None, 32, 32, 32)        18464     \n",
      "                                                                 \n",
      " batch_normalization_4 (Bat  (None, 32, 32, 32)        128       \n",
      " chNormalization)                                                \n",
      "                                                                 \n",
      " average_pooling2d_2 (Avera  (None, 16, 16, 32)        0         \n",
      " gePooling2D)                                                    \n",
      "                                                                 \n",
      " dropout_2 (Dropout)         (None, 16, 16, 32)        0         \n",
      "                                                                 \n",
      " conv2d_5 (Conv2D)           (None, 16, 16, 64)        18496     \n",
      "                                                                 \n",
      " batch_normalization_5 (Bat  (None, 16, 16, 64)        256       \n",
      " chNormalization)                                                \n",
      "                                                                 \n",
      " conv2d_6 (Conv2D)           (None, 16, 16, 64)        36928     \n",
      "                                                                 \n",
      " batch_normalization_6 (Bat  (None, 16, 16, 64)        256       \n",
      " chNormalization)                                                \n",
      "                                                                 \n",
      " average_pooling2d_3 (Avera  (None, 8, 8, 64)          0         \n",
      " gePooling2D)                                                    \n",
      "                                                                 \n",
      " dropout_3 (Dropout)         (None, 8, 8, 64)          0         \n",
      "                                                                 \n",
      " flatten (Flatten)           (None, 4096)              0         \n",
      "                                                                 \n",
      " batch_normalization_7 (Bat  (None, 4096)              16384     \n",
      " chNormalization)                                                \n",
      "                                                                 \n",
      " dense (Dense)               (None, 128)               524416    \n",
      "                                                                 \n",
      " dropout_4 (Dropout)         (None, 128)               0         \n",
      "                                                                 \n",
      " batch_normalization_8 (Bat  (None, 128)               512       \n",
      " chNormalization)                                                \n",
      "                                                                 \n",
      " dense_1 (Dense)             (None, 2)                 258       \n",
      "                                                                 \n",
      "=================================================================\n",
      "Total params: 682434 (2.60 MB)\n",
      "Trainable params: 673282 (2.57 MB)\n",
      "Non-trainable params: 9152 (35.75 KB)\n",
      "_________________________________________________________________\n"
     ]
    }
   ],
   "source": [
    "# Set the CNN model \n",
    "input_shape = (128, 128, 3)\n",
    "num_classes = 2\n",
    "\n",
    "model = Sequential()\n",
    "model.add(Conv2D(32, kernel_size=(3, 3),activation='relu',padding = 'Same',input_shape=input_shape))\n",
    "model.add(BatchNormalization())\n",
    "\n",
    "model.add(Conv2D(32,kernel_size=(3, 3), activation='relu',padding = 'Same'))\n",
    "model.add(BatchNormalization())\n",
    "model.add(AveragePooling2D(pool_size = (2, 2)))\n",
    "model.add(Dropout(0.25))\n",
    "\n",
    "model.add(Conv2D(64, (3, 3), activation='relu',padding = 'Same'))\n",
    "model.add(BatchNormalization())\n",
    "\n",
    "model.add(Conv2D(64, (3, 3), activation='relu',padding = 'Same'))\n",
    "model.add(BatchNormalization())\n",
    "model.add(AveragePooling2D(pool_size=(2, 2)))\n",
    "model.add(Dropout(0.25))\n",
    "\n",
    "##############################\n",
    "model.add(Conv2D(32,kernel_size=(3, 3), activation='relu',padding = 'Same'))\n",
    "model.add(BatchNormalization())\n",
    "model.add(AveragePooling2D(pool_size = (2, 2)))\n",
    "model.add(Dropout(0.25))\n",
    "\n",
    "model.add(Conv2D(64, (3, 3), activation='relu',padding = 'Same'))\n",
    "model.add(BatchNormalization())\n",
    "\n",
    "model.add(Conv2D(64, (3, 3), activation='relu',padding = 'Same'))\n",
    "model.add(BatchNormalization())\n",
    "model.add(AveragePooling2D(pool_size=(2, 2)))\n",
    "model.add(Dropout(0.25))\n",
    "##############################\n",
    "model.add(Flatten())\n",
    "\n",
    "model.add(BatchNormalization())\n",
    "model.add(Dense(128, activation='relu'))\n",
    "model.add(Dropout(0.25))\n",
    "\n",
    "model.add(BatchNormalization())\n",
    "model.add(Dense(num_classes, activation='softmax'))\n",
    "model.summary()"
   ]
  },
  {
   "cell_type": "code",
   "execution_count": 11,
   "metadata": {},
   "outputs": [],
   "source": [
    "import keras\n",
    "from sklearn import metrics\n",
    "from sklearn.metrics import confusion_matrix\n",
    "from sklearn.metrics import precision_recall_fscore_support\n",
    "\n",
    "# model = Model(pre_trained_model.input, x)\n",
    "optimizer = Adam(learning_rate=0.0001, beta_1=0.9, beta_2=0.999, amsgrad=False)\n",
    "model.compile(loss='categorical_crossentropy',\n",
    "              optimizer=optimizer, metrics=['accuracy',\n",
    "                                            keras.metrics.Precision(name='precision'),\n",
    "                                            keras.metrics.Recall(name='recall'),\n",
    "                                            tf.keras.metrics.SpecificityAtSensitivity(0.0),\n",
    "                                            tf.keras.metrics.SensitivityAtSpecificity(0.0)\n",
    "                                          ])"
   ]
  },
  {
   "cell_type": "code",
   "execution_count": 12,
   "metadata": {},
   "outputs": [],
   "source": [
    "from tensorflow.keras.callbacks import ReduceLROnPlateau, EarlyStopping\n",
    "\n",
    "learning_rate_reduction = ReduceLROnPlateau(monitor='val_accuracy', patience=3, verbose=1, factor=0.5, \n",
    "                                            min_lr=0.000001, cooldown=2)\n",
    "early_stopping = EarlyStopping(monitor='val_accuracy', patience=5, restore_best_weights=True)"
   ]
  },
  {
   "cell_type": "code",
   "execution_count": 13,
   "metadata": {},
   "outputs": [
    {
     "name": "stdout",
     "output_type": "stream",
     "text": [
      "Epoch 1/100\n",
      "WARNING:tensorflow:From c:\\Users\\ASUS\\AppData\\Local\\Programs\\Python\\Python310\\lib\\site-packages\\keras\\src\\utils\\tf_utils.py:492: The name tf.ragged.RaggedTensorValue is deprecated. Please use tf.compat.v1.ragged.RaggedTensorValue instead.\n",
      "\n",
      "WARNING:tensorflow:From c:\\Users\\ASUS\\AppData\\Local\\Programs\\Python\\Python310\\lib\\site-packages\\keras\\src\\engine\\base_layer_utils.py:384: The name tf.executing_eagerly_outside_functions is deprecated. Please use tf.compat.v1.executing_eagerly_outside_functions instead.\n",
      "\n",
      "103/103 [==============================] - 56s 504ms/step - loss: 0.5961 - accuracy: 0.7154 - precision: 0.7154 - recall: 0.7154 - specificity_at_sensitivity: 1.0000 - sensitivity_at_specificity: 1.0000 - val_loss: 4.2648 - val_accuracy: 0.1484 - val_precision: 0.1484 - val_recall: 0.1484 - val_specificity_at_sensitivity: 1.0000 - val_sensitivity_at_specificity: 1.0000 - lr: 1.0000e-04\n",
      "Epoch 2/100\n",
      "103/103 [==============================] - 52s 505ms/step - loss: 0.2932 - accuracy: 0.8778 - precision: 0.8778 - recall: 0.8778 - specificity_at_sensitivity: 1.0000 - sensitivity_at_specificity: 1.0000 - val_loss: 11.9861 - val_accuracy: 0.1484 - val_precision: 0.1484 - val_recall: 0.1484 - val_specificity_at_sensitivity: 1.0000 - val_sensitivity_at_specificity: 1.0000 - lr: 1.0000e-04\n",
      "Epoch 3/100\n",
      "103/103 [==============================] - 51s 493ms/step - loss: 0.1716 - accuracy: 0.9415 - precision: 0.9415 - recall: 0.9415 - specificity_at_sensitivity: 1.0000 - sensitivity_at_specificity: 1.0000 - val_loss: 19.1700 - val_accuracy: 0.1484 - val_precision: 0.1484 - val_recall: 0.1484 - val_specificity_at_sensitivity: 1.0000 - val_sensitivity_at_specificity: 1.0000 - lr: 1.0000e-04\n",
      "Epoch 4/100\n",
      "103/103 [==============================] - ETA: 0s - loss: 0.1224 - accuracy: 0.9651 - precision: 0.9651 - recall: 0.9651 - specificity_at_sensitivity: 1.0000 - sensitivity_at_specificity: 1.0000\n",
      "Epoch 4: ReduceLROnPlateau reducing learning rate to 4.999999873689376e-05.\n",
      "103/103 [==============================] - 50s 484ms/step - loss: 0.1224 - accuracy: 0.9651 - precision: 0.9651 - recall: 0.9651 - specificity_at_sensitivity: 1.0000 - sensitivity_at_specificity: 1.0000 - val_loss: 23.1310 - val_accuracy: 0.1484 - val_precision: 0.1484 - val_recall: 0.1484 - val_specificity_at_sensitivity: 1.0000 - val_sensitivity_at_specificity: 1.0000 - lr: 1.0000e-04\n",
      "Epoch 5/100\n",
      "103/103 [==============================] - 50s 484ms/step - loss: 0.0893 - accuracy: 0.9770 - precision: 0.9770 - recall: 0.9770 - specificity_at_sensitivity: 1.0000 - sensitivity_at_specificity: 1.0000 - val_loss: 20.0184 - val_accuracy: 0.1484 - val_precision: 0.1484 - val_recall: 0.1484 - val_specificity_at_sensitivity: 1.0000 - val_sensitivity_at_specificity: 1.0000 - lr: 5.0000e-05\n",
      "Epoch 6/100\n",
      "103/103 [==============================] - 51s 494ms/step - loss: 0.0689 - accuracy: 0.9828 - precision: 0.9828 - recall: 0.9828 - specificity_at_sensitivity: 1.0000 - sensitivity_at_specificity: 1.0000 - val_loss: 9.4274 - val_accuracy: 0.1615 - val_precision: 0.1615 - val_recall: 0.1615 - val_specificity_at_sensitivity: 1.0000 - val_sensitivity_at_specificity: 1.0000 - lr: 5.0000e-05\n",
      "Epoch 7/100\n",
      "103/103 [==============================] - 50s 487ms/step - loss: 0.0606 - accuracy: 0.9862 - precision: 0.9862 - recall: 0.9862 - specificity_at_sensitivity: 1.0000 - sensitivity_at_specificity: 1.0000 - val_loss: 0.1307 - val_accuracy: 0.9661 - val_precision: 0.9661 - val_recall: 0.9661 - val_specificity_at_sensitivity: 1.0000 - val_sensitivity_at_specificity: 1.0000 - lr: 5.0000e-05\n",
      "Epoch 8/100\n",
      "103/103 [==============================] - 51s 496ms/step - loss: 0.0563 - accuracy: 0.9871 - precision: 0.9871 - recall: 0.9871 - specificity_at_sensitivity: 1.0000 - sensitivity_at_specificity: 1.0000 - val_loss: 0.0099 - val_accuracy: 0.9922 - val_precision: 0.9922 - val_recall: 0.9922 - val_specificity_at_sensitivity: 1.0000 - val_sensitivity_at_specificity: 1.0000 - lr: 5.0000e-05\n",
      "Epoch 9/100\n",
      "103/103 [==============================] - 52s 503ms/step - loss: 0.0481 - accuracy: 0.9896 - precision: 0.9896 - recall: 0.9896 - specificity_at_sensitivity: 1.0000 - sensitivity_at_specificity: 1.0000 - val_loss: 0.0068 - val_accuracy: 1.0000 - val_precision: 1.0000 - val_recall: 1.0000 - val_specificity_at_sensitivity: 1.0000 - val_sensitivity_at_specificity: 1.0000 - lr: 5.0000e-05\n",
      "Epoch 10/100\n",
      "103/103 [==============================] - 50s 485ms/step - loss: 0.0389 - accuracy: 0.9926 - precision: 0.9926 - recall: 0.9926 - specificity_at_sensitivity: 1.0000 - sensitivity_at_specificity: 1.0000 - val_loss: 0.0121 - val_accuracy: 0.9922 - val_precision: 0.9922 - val_recall: 0.9922 - val_specificity_at_sensitivity: 1.0000 - val_sensitivity_at_specificity: 1.0000 - lr: 5.0000e-05\n",
      "Epoch 11/100\n",
      "103/103 [==============================] - 51s 491ms/step - loss: 0.0446 - accuracy: 0.9893 - precision: 0.9893 - recall: 0.9893 - specificity_at_sensitivity: 1.0000 - sensitivity_at_specificity: 1.0000 - val_loss: 0.0104 - val_accuracy: 0.9922 - val_precision: 0.9922 - val_recall: 0.9922 - val_specificity_at_sensitivity: 1.0000 - val_sensitivity_at_specificity: 1.0000 - lr: 5.0000e-05\n",
      "Epoch 12/100\n",
      "103/103 [==============================] - ETA: 0s - loss: 0.0381 - accuracy: 0.9908 - precision: 0.9908 - recall: 0.9908 - specificity_at_sensitivity: 1.0000 - sensitivity_at_specificity: 1.0000\n",
      "Epoch 12: ReduceLROnPlateau reducing learning rate to 2.499999936844688e-05.\n",
      "103/103 [==============================] - 50s 488ms/step - loss: 0.0381 - accuracy: 0.9908 - precision: 0.9908 - recall: 0.9908 - specificity_at_sensitivity: 1.0000 - sensitivity_at_specificity: 1.0000 - val_loss: 0.0124 - val_accuracy: 0.9922 - val_precision: 0.9922 - val_recall: 0.9922 - val_specificity_at_sensitivity: 1.0000 - val_sensitivity_at_specificity: 1.0000 - lr: 5.0000e-05\n",
      "Epoch 13/100\n",
      "103/103 [==============================] - 50s 488ms/step - loss: 0.0298 - accuracy: 0.9948 - precision: 0.9948 - recall: 0.9948 - specificity_at_sensitivity: 1.0000 - sensitivity_at_specificity: 1.0000 - val_loss: 0.0176 - val_accuracy: 0.9922 - val_precision: 0.9922 - val_recall: 0.9922 - val_specificity_at_sensitivity: 1.0000 - val_sensitivity_at_specificity: 1.0000 - lr: 2.5000e-05\n",
      "Epoch 14/100\n",
      "103/103 [==============================] - 51s 491ms/step - loss: 0.0513 - accuracy: 0.9865 - precision: 0.9865 - recall: 0.9865 - specificity_at_sensitivity: 1.0000 - sensitivity_at_specificity: 1.0000 - val_loss: 0.0059 - val_accuracy: 1.0000 - val_precision: 1.0000 - val_recall: 1.0000 - val_specificity_at_sensitivity: 1.0000 - val_sensitivity_at_specificity: 1.0000 - lr: 2.5000e-05\n"
     ]
    }
   ],
   "source": [
    "batch_size = 32\n",
    "\n",
    "epochs = 100\n",
    "\n",
    "history = model.fit(X_train,y_train, batch_size=batch_size,\n",
    "                              epochs = epochs, validation_data = (X_val, y_val),\n",
    "                              verbose = 1, steps_per_epoch=(X_train.shape[0] // batch_size),\n",
    "                              validation_steps=(X_val.shape[0] // batch_size),\n",
    "                              callbacks=[learning_rate_reduction, early_stopping])"
   ]
  },
  {
   "cell_type": "code",
   "execution_count": 14,
   "metadata": {},
   "outputs": [
    {
     "name": "stdout",
     "output_type": "stream",
     "text": [
      "13/13 [==============================] - 2s 129ms/step\n",
      "F1 Scores: 1.0\n",
      "Classification Report:\n",
      "              precision    recall  f1-score   support\n",
      "\n",
      "           0     1.0000    1.0000    1.0000       328\n",
      "           1     1.0000    1.0000    1.0000        86\n",
      "\n",
      "    accuracy                         1.0000       414\n",
      "   macro avg     1.0000    1.0000    1.0000       414\n",
      "weighted avg     1.0000    1.0000    1.0000       414\n",
      "\n"
     ]
    }
   ],
   "source": [
    "from sklearn.metrics import f1_score, classification_report\n",
    "\n",
    "# Prediksi menggunakan model\n",
    "y_pred_probs = model.predict(X_test)  # Gantilah x_test dengan data uji Anda\n",
    "y_pred = np.argmax(y_pred_probs, axis=1)  # Ambil indeks kelas dengan probabilitas tertinggi\n",
    "\n",
    "# Konversi hasil prediksi menjadi bentuk yang sesuai\n",
    "y_true = np.argmax(y_test, axis=1)  # Gantilah y_test dengan label ground truth\n",
    "\n",
    "# Hitung F1 Score\n",
    "f1 = f1_score(y_true, y_pred, average='weighted')  # 'weighted' untuk klasifikasi multiclass\n",
    "\n",
    "print(\"F1 Scores:\", f1)\n",
    "\n",
    "# Print laporan klasifikasi\n",
    "print(\"Classification Report:\")\n",
    "print(classification_report(y_true, y_pred, digits=4))"
   ]
  },
  {
   "cell_type": "code",
   "execution_count": 15,
   "metadata": {},
   "outputs": [
    {
     "name": "stdout",
     "output_type": "stream",
     "text": [
      "13/13 [==============================] - 2s 168ms/step - loss: 0.0024 - accuracy: 1.0000 - precision: 1.0000 - recall: 1.0000 - specificity_at_sensitivity: 1.0000 - sensitivity_at_specificity: 1.0000\n",
      "Loss :  0.0024318203795701265\n",
      "Acc :  1.0\n",
      "Precission :  1.0\n",
      "Recall :  1.0\n",
      "Sensitivity :  1.0\n",
      "Specificity :  1.0\n",
      "G-mean :  1.0\n",
      "       Loss  Accuracy  Precision  Recall  Sensitivity  Specificity  G-mean  \\\n",
      "0  0.002432       1.0        1.0     1.0          1.0          1.0     1.0   \n",
      "\n",
      "   f1_scores      data model  epoch  \n",
      "0        1.0  original   CNN     14  \n"
     ]
    }
   ],
   "source": [
    "import math \n",
    "\n",
    "los, acc, pre, recall, sensitivity, specificity = model.evaluate(X_test, y_test, verbose=1)\n",
    "\n",
    "print(\"Loss : \", los)\n",
    "print(\"Acc : \", acc)\n",
    "print(\"Precission : \", pre)\n",
    "print(\"Recall : \", recall)\n",
    "print(\"Sensitivity : \", sensitivity)\n",
    "print(\"Specificity : \", specificity)\n",
    "print(\"G-mean : \", math.sqrt(sensitivity*specificity))\n",
    "# print(\"F1-Score : \", ((2*(pre*recall))/pre+recall))\n",
    "\n",
    "# Hitung G-mean\n",
    "g_mean = math.sqrt(sensitivity * specificity)\n",
    "\n",
    "# Buat dataframe dengan data evaluasi\n",
    "evaluation_data = {\n",
    "    'Loss': [los],\n",
    "    'Accuracy': [acc],\n",
    "    'Precision': [pre],\n",
    "    'Recall': [recall],\n",
    "    'Sensitivity': [sensitivity],\n",
    "    'Specificity': [specificity],\n",
    "    'G-mean': [g_mean]\n",
    "}\n",
    "\n",
    "df = pd.DataFrame(evaluation_data)\n",
    "df['f1_scores'] = f1\n",
    "df['data'] = \"original\"\n",
    "df['model'] = \"CNN\"\n",
    "df['epoch'] = len(history.history['loss'])\n",
    "\n",
    "# Tampilkan dataframe\n",
    "print(df)"
   ]
  },
  {
   "cell_type": "code",
   "execution_count": 16,
   "metadata": {},
   "outputs": [
    {
     "name": "stdout",
     "output_type": "stream",
     "text": [
      "13/13 [==============================] - 2s 164ms/step\n"
     ]
    },
    {
     "data": {
      "image/png": "[encoded data removed]",
      "text/plain": [
       "<Figure size 640x480 with 2 Axes>"
      ]
     },
     "metadata": {},
     "output_type": "display_data"
    },
    {
     "name": "stdout",
     "output_type": "stream",
     "text": [
      "Classification report for classifier <keras.src.engine.sequential.Sequential object at 0x0000021653263730>:\n",
      "              precision    recall  f1-score   support\n",
      "\n",
      "     class 0     1.0000    1.0000    1.0000       328\n",
      "     class 1     1.0000    1.0000    1.0000        86\n",
      "\n",
      "    accuracy                         1.0000       414\n",
      "   macro avg     1.0000    1.0000    1.0000       414\n",
      "weighted avg     1.0000    1.0000    1.0000       414\n",
      "\n",
      "\n"
     ]
    }
   ],
   "source": [
    "from sklearn.metrics import confusion_matrix, classification_report\n",
    "import seaborn as sns\n",
    "\n",
    "# Predict the values from the validation dataset\n",
    "Y_pred = model.predict(X_test)\n",
    "# Convert predictions to class labels\n",
    "Y_pred_classes = np.argmax(Y_pred, axis=1)\n",
    "# Convert validation observations to class labels\n",
    "Y_true = np.argmax(y_test, axis=1)\n",
    "\n",
    "# Get the number of classes (number of unique class labels)\n",
    "num_classes = len(np.unique(Y_true))\n",
    "\n",
    "# Compute the confusion matrix\n",
    "confusion_mtx = confusion_matrix(Y_true, Y_pred_classes)\n",
    "\n",
    "# Define class labels based on your specific problem\n",
    "class_labels = ['class 0', 'class 1']\n",
    "\n",
    "# Plot the confusion matrix\n",
    "sns.heatmap(confusion_mtx, annot=True, fmt='d', cmap='Blues',\n",
    "            xticklabels=class_labels, yticklabels=class_labels)\n",
    "plt.xlabel('Predicted')\n",
    "plt.ylabel('True')\n",
    "plt.show()\n",
    "\n",
    "# Show the classification report\n",
    "print(\"Classification report for classifier %s:\\n%s\\n\"\n",
    "      % (model, classification_report(Y_true, Y_pred_classes, target_names=class_labels, digits=4)))\n"
   ]
  },
  {
   "cell_type": "markdown",
   "metadata": {},
   "source": [
    "Testing Privat Data"
   ]
  },
  {
   "cell_type": "code",
   "execution_count": 17,
   "metadata": {},
   "outputs": [
    {
     "name": "stdout",
     "output_type": "stream",
     "text": [
      "Distribusi kelas: Counter({0: 540, 1: 446})\n"
     ]
    }
   ],
   "source": [
    "# Load dataset dari folder\n",
    "normal_folder = \"./privatData/Normal\"\n",
    "stone_folder = \"./privatData/Stone\"\n",
    "\n",
    "normal_images, normal_labels = load_images_from_folder(normal_folder)\n",
    "stone_images, stone_labels = load_images_from_folder(stone_folder)\n",
    "\n",
    "# Menggabungkan gambar dan label dari kedua kelas\n",
    "X = np.concatenate([normal_images, stone_images], axis=0)\n",
    "y = np.concatenate([normal_labels, stone_labels], axis=0)\n",
    "\n",
    "# Ubah label ke bentuk numerik\n",
    "le = LabelEncoder()\n",
    "y = le.fit_transform(y)\n",
    "\n",
    "# Normalisasi nilai piksel ke rentang [0, 1]\n",
    "X_privat = X / 255.0\n",
    "# Ubah label ke format one-hot encoding\n",
    "y_privat = to_categorical(y)\n",
    "\n",
    "# Tampilkan distribusi kelas \n",
    "print('Distribusi kelas:', Counter(y))"
   ]
  },
  {
   "cell_type": "code",
   "execution_count": 18,
   "metadata": {},
   "outputs": [
    {
     "name": "stdout",
     "output_type": "stream",
     "text": [
      "31/31 [==============================] - 4s 141ms/step\n",
      "F1 Scores: 0.5090517274193485\n",
      "Classification Report:\n",
      "              precision    recall  f1-score   support\n",
      "\n",
      "           0     0.6640    0.3111    0.4237       540\n",
      "           1     0.4925    0.8094    0.6124       446\n",
      "\n",
      "    accuracy                         0.5365       986\n",
      "   macro avg     0.5783    0.5603    0.5180       986\n",
      "weighted avg     0.5864    0.5365    0.5091       986\n",
      "\n"
     ]
    }
   ],
   "source": [
    "from sklearn.metrics import f1_score, classification_report\n",
    "\n",
    "# Prediksi menggunakan model\n",
    "y_pred_probs = model.predict(X_privat)  # Gantilah x_test dengan data uji Anda\n",
    "y_pred = np.argmax(y_pred_probs, axis=1)  # Ambil indeks kelas dengan probabilitas tertinggi\n",
    "\n",
    "# Konversi hasil prediksi menjadi bentuk yang sesuai\n",
    "y_true = np.argmax(y_privat, axis=1)  # Gantilah y_test dengan label ground truth\n",
    "\n",
    "# Hitung F1 Score\n",
    "f1 = f1_score(y_true, y_pred, average='weighted')  # 'weighted' untuk klasifikasi multiclass\n",
    "\n",
    "print(\"F1 Scores:\", f1)\n",
    "\n",
    "# Print laporan klasifikasi\n",
    "print(\"Classification Report:\")\n",
    "print(classification_report(y_true, y_pred, digits=4))"
   ]
  },
  {
   "cell_type": "code",
   "execution_count": 19,
   "metadata": {},
   "outputs": [
    {
     "name": "stdout",
     "output_type": "stream",
     "text": [
      "31/31 [==============================] - 5s 146ms/step - loss: 2.3638 - accuracy: 0.5365 - precision: 0.5365 - recall: 0.5365 - specificity_at_sensitivity: 1.0000 - sensitivity_at_specificity: 1.0000\n",
      "Loss :  2.3637547492980957\n",
      "Acc :  0.5365111827850342\n",
      "Precission :  0.5365111827850342\n",
      "Recall :  0.5365111827850342\n",
      "Sensitivity :  1.0\n",
      "Specificity :  1.0\n",
      "G-mean :  1.0\n",
      "       Loss  Accuracy  Precision    Recall  Sensitivity  Specificity  G-mean  \\\n",
      "0  2.363755  0.536511   0.536511  0.536511          1.0          1.0     1.0   \n",
      "\n",
      "   f1_scores      data model  epoch  \n",
      "0   0.509052  original   CNN     14  \n"
     ]
    }
   ],
   "source": [
    "import math \n",
    "import pandas as pd\n",
    "\n",
    "los, acc, pre, recall, sensitivity, specificity = model.evaluate(X_privat, y_privat, verbose=1)\n",
    "\n",
    "print(\"Loss : \", los)\n",
    "print(\"Acc : \", acc)\n",
    "print(\"Precission : \", pre)\n",
    "print(\"Recall : \", recall)\n",
    "print(\"Sensitivity : \", sensitivity)\n",
    "print(\"Specificity : \", specificity)\n",
    "print(\"G-mean : \", math.sqrt(sensitivity*specificity))\n",
    "# print(\"F1-Score : \", ((2*(pre*recall))/pre+recall))\n",
    "\n",
    "# Hitung G-mean\n",
    "g_mean = math.sqrt(sensitivity * specificity)\n",
    "\n",
    "# Buat dataframe dengan data evaluasi\n",
    "evaluation_data = {\n",
    "    'Loss': [los],\n",
    "    'Accuracy': [acc],\n",
    "    'Precision': [pre],\n",
    "    'Recall': [recall],\n",
    "    'Sensitivity': [sensitivity],\n",
    "    'Specificity': [specificity],\n",
    "    'G-mean': [g_mean]\n",
    "}\n",
    "\n",
    "df = pd.DataFrame(evaluation_data)\n",
    "df['f1_scores'] = f1\n",
    "df['data'] = \"original\"\n",
    "df['model'] = \"CNN\"\n",
    "df['epoch'] = len(history.history['loss'])\n",
    "\n",
    "# Tampilkan dataframe\n",
    "print(df)"
   ]
  },
  {
   "cell_type": "code",
   "execution_count": 20,
   "metadata": {},
   "outputs": [
    {
     "name": "stdout",
     "output_type": "stream",
     "text": [
      "31/31 [==============================] - 4s 141ms/step\n"
     ]
    },
    {
     "data": {
      "image/png": "[encoded data removed]",
      "text/plain": [
       "<Figure size 640x480 with 2 Axes>"
      ]
     },
     "metadata": {},
     "output_type": "display_data"
    },
    {
     "name": "stdout",
     "output_type": "stream",
     "text": [
      "Classification report for classifier <keras.src.engine.sequential.Sequential object at 0x0000021653263730>:\n",
      "              precision    recall  f1-score   support\n",
      "\n",
      "     class 0     0.6640    0.3111    0.4237       540\n",
      "     class 1     0.4925    0.8094    0.6124       446\n",
      "\n",
      "    accuracy                         0.5365       986\n",
      "   macro avg     0.5783    0.5603    0.5180       986\n",
      "weighted avg     0.5864    0.5365    0.5091       986\n",
      "\n",
      "\n"
     ]
    }
   ],
   "source": [
    "from sklearn.metrics import confusion_matrix, classification_report\n",
    "import seaborn as sns\n",
    "\n",
    "# Predict the values from the validation dataset\n",
    "Y_pred = model.predict(X_privat)\n",
    "# Convert predictions to class labels\n",
    "Y_pred_classes = np.argmax(Y_pred, axis=1)\n",
    "# Convert validation observations to class labels\n",
    "Y_true = np.argmax(y_privat, axis=1)\n",
    "\n",
    "# Get the number of classes (number of unique class labels)\n",
    "num_classes = len(np.unique(Y_true))\n",
    "\n",
    "# Compute the confusion matrix\n",
    "confusion_mtx = confusion_matrix(Y_true, Y_pred_classes)\n",
    "\n",
    "# Define class labels based on your specific problem\n",
    "class_labels = ['class 0', 'class 1']\n",
    "\n",
    "# Plot the confusion matrix\n",
    "sns.heatmap(confusion_mtx, annot=True, fmt='d', cmap='Blues',\n",
    "            xticklabels=class_labels, yticklabels=class_labels)\n",
    "plt.xlabel('Predicted')\n",
    "plt.ylabel('True')\n",
    "plt.show()\n",
    "\n",
    "# Show the classification report\n",
    "print(\"Classification report for classifier %s:\\n%s\\n\"\n",
    "      % (model, classification_report(Y_true, Y_pred_classes, target_names=class_labels, digits=4)))\n"
   ]
  }
 ],
 "metadata": {
  "kernelspec": {
   "display_name": "Python 3",
   "language": "python",
   "name": "python3"
  },
  "language_info": {
   "codemirror_mode": {
    "name": "ipython",
    "version": 3
   },
   "file_extension": ".py",
   "mimetype": "text/x-python",
   "name": "python",
   "nbconvert_exporter": "python",
   "pygments_lexer": "ipython3",
   "version": "3.10.5"
  }
 },
 "nbformat": 4,
 "nbformat_minor": 2
}
